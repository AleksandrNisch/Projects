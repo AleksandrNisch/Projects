{
 "cells": [
  {
   "cell_type": "code",
   "execution_count": 1,
   "metadata": {
    "_cell_guid": "b1076dfc-b9ad-4769-8c92-a6c4dae69d19",
    "_uuid": "8f2839f25d086af736a60e9eeb907d3b93b6e0e5",
    "colab": {},
    "colab_type": "code",
    "id": "U2D2gTdJVp90"
   },
   "outputs": [],
   "source": [
    "import numpy as np\n",
    "import pandas as pd\n",
    "import seaborn as sns\n",
    "import matplotlib.pyplot as plt\n",
    "from collections import Counter"
   ]
  },
  {
   "cell_type": "code",
   "execution_count": 2,
   "metadata": {
    "_cell_guid": "79c7e3d0-c299-4dcb-8224-4455121ee9b0",
    "_uuid": "d629ff2d2480ee46fbb7e2d37f6b5fab8052498a",
    "colab": {},
    "colab_type": "code",
    "id": "oyGfxL3eVp9-"
   },
   "outputs": [
    {
     "data": {
      "text/html": [
       "<div>\n",
       "<style scoped>\n",
       "    .dataframe tbody tr th:only-of-type {\n",
       "        vertical-align: middle;\n",
       "    }\n",
       "\n",
       "    .dataframe tbody tr th {\n",
       "        vertical-align: top;\n",
       "    }\n",
       "\n",
       "    .dataframe thead th {\n",
       "        text-align: right;\n",
       "    }\n",
       "</style>\n",
       "<table border=\"1\" class=\"dataframe\">\n",
       "  <thead>\n",
       "    <tr style=\"text-align: right;\">\n",
       "      <th></th>\n",
       "      <th>imdb_id</th>\n",
       "      <th>budget</th>\n",
       "      <th>revenue</th>\n",
       "      <th>original_title</th>\n",
       "      <th>cast</th>\n",
       "      <th>director</th>\n",
       "      <th>tagline</th>\n",
       "      <th>overview</th>\n",
       "      <th>runtime</th>\n",
       "      <th>genres</th>\n",
       "      <th>production_companies</th>\n",
       "      <th>release_date</th>\n",
       "      <th>vote_average</th>\n",
       "      <th>release_year</th>\n",
       "    </tr>\n",
       "  </thead>\n",
       "  <tbody>\n",
       "    <tr>\n",
       "      <th>142</th>\n",
       "      <td>tt1872181</td>\n",
       "      <td>200000000</td>\n",
       "      <td>705717432</td>\n",
       "      <td>The Amazing Spider-Man 2</td>\n",
       "      <td>Andrew Garfield|Emma Stone|Jamie Foxx|Dane DeH...</td>\n",
       "      <td>Marc Webb</td>\n",
       "      <td>No more secrets.</td>\n",
       "      <td>For Peter Parker, life is busy. Between taking...</td>\n",
       "      <td>142</td>\n",
       "      <td>Action|Adventure|Fantasy</td>\n",
       "      <td>Columbia Pictures|Marvel Enterprises|Avi Arad ...</td>\n",
       "      <td>4/16/2014</td>\n",
       "      <td>6.6</td>\n",
       "      <td>2014</td>\n",
       "    </tr>\n",
       "    <tr>\n",
       "      <th>477</th>\n",
       "      <td>tt1027718</td>\n",
       "      <td>70000000</td>\n",
       "      <td>134748021</td>\n",
       "      <td>Wall Street: Money Never Sleeps</td>\n",
       "      <td>Michael Douglas|Shia LaBeouf|Josh Brolin|Carey...</td>\n",
       "      <td>Oliver Stone</td>\n",
       "      <td>Gordon never gives up.</td>\n",
       "      <td>As the global economy teeters on the brink of ...</td>\n",
       "      <td>133</td>\n",
       "      <td>Drama|Crime</td>\n",
       "      <td>Twentieth Century Fox Film Corporation|Dune En...</td>\n",
       "      <td>9/2/2010</td>\n",
       "      <td>5.8</td>\n",
       "      <td>2010</td>\n",
       "    </tr>\n",
       "    <tr>\n",
       "      <th>1226</th>\n",
       "      <td>tt1211956</td>\n",
       "      <td>50000000</td>\n",
       "      <td>122915111</td>\n",
       "      <td>Escape Plan</td>\n",
       "      <td>Sylvester Stallone|Arnold Schwarzenegger|Jim C...</td>\n",
       "      <td>Mikael HÃ¥fstrÃ¶m</td>\n",
       "      <td>No one breaks out alone.</td>\n",
       "      <td>Ray Breslin is the world's foremost authority ...</td>\n",
       "      <td>115</td>\n",
       "      <td>Action|Thriller</td>\n",
       "      <td>Summit Entertainment|Atmosphere Entertainment ...</td>\n",
       "      <td>10/9/2013</td>\n",
       "      <td>6.7</td>\n",
       "      <td>2013</td>\n",
       "    </tr>\n",
       "    <tr>\n",
       "      <th>176</th>\n",
       "      <td>tt2626350</td>\n",
       "      <td>45000000</td>\n",
       "      <td>86165646</td>\n",
       "      <td>Step Up All In</td>\n",
       "      <td>Ryan Guzman|Briana Evigan|Stephen Boss|Misha G...</td>\n",
       "      <td>Trish Sie</td>\n",
       "      <td>Every Step Has Led To This</td>\n",
       "      <td>All-stars from the previous Step Up installmen...</td>\n",
       "      <td>112</td>\n",
       "      <td>Romance|Drama|Music</td>\n",
       "      <td>Summit Entertainment|Offspring Entertainment</td>\n",
       "      <td>7/16/2014</td>\n",
       "      <td>6.7</td>\n",
       "      <td>2014</td>\n",
       "    </tr>\n",
       "    <tr>\n",
       "      <th>492</th>\n",
       "      <td>tt1391137</td>\n",
       "      <td>20000000</td>\n",
       "      <td>60072596</td>\n",
       "      <td>Why Did I Get Married Too?</td>\n",
       "      <td>Tyler Perry|Janet Jackson|Jill Scott|Sharon Le...</td>\n",
       "      <td>Tyler Perry</td>\n",
       "      <td>Marriage is an institution they're committed to.</td>\n",
       "      <td>Four couples reunite for their annual vacation...</td>\n",
       "      <td>121</td>\n",
       "      <td>Comedy|Romance</td>\n",
       "      <td>Lions Gate Films|The Tyler Perry Company</td>\n",
       "      <td>4/2/2010</td>\n",
       "      <td>6.0</td>\n",
       "      <td>2010</td>\n",
       "    </tr>\n",
       "  </tbody>\n",
       "</table>\n",
       "</div>"
      ],
      "text/plain": [
       "        imdb_id     budget    revenue                   original_title  \\\n",
       "142   tt1872181  200000000  705717432         The Amazing Spider-Man 2   \n",
       "477   tt1027718   70000000  134748021  Wall Street: Money Never Sleeps   \n",
       "1226  tt1211956   50000000  122915111                      Escape Plan   \n",
       "176   tt2626350   45000000   86165646                   Step Up All In   \n",
       "492   tt1391137   20000000   60072596       Why Did I Get Married Too?   \n",
       "\n",
       "                                                   cast           director  \\\n",
       "142   Andrew Garfield|Emma Stone|Jamie Foxx|Dane DeH...          Marc Webb   \n",
       "477   Michael Douglas|Shia LaBeouf|Josh Brolin|Carey...       Oliver Stone   \n",
       "1226  Sylvester Stallone|Arnold Schwarzenegger|Jim C...  Mikael HÃ¥fstrÃ¶m   \n",
       "176   Ryan Guzman|Briana Evigan|Stephen Boss|Misha G...          Trish Sie   \n",
       "492   Tyler Perry|Janet Jackson|Jill Scott|Sharon Le...        Tyler Perry   \n",
       "\n",
       "                                               tagline  \\\n",
       "142                                   No more secrets.   \n",
       "477                             Gordon never gives up.   \n",
       "1226                          No one breaks out alone.   \n",
       "176                         Every Step Has Led To This   \n",
       "492   Marriage is an institution they're committed to.   \n",
       "\n",
       "                                               overview  runtime  \\\n",
       "142   For Peter Parker, life is busy. Between taking...      142   \n",
       "477   As the global economy teeters on the brink of ...      133   \n",
       "1226  Ray Breslin is the world's foremost authority ...      115   \n",
       "176   All-stars from the previous Step Up installmen...      112   \n",
       "492   Four couples reunite for their annual vacation...      121   \n",
       "\n",
       "                        genres  \\\n",
       "142   Action|Adventure|Fantasy   \n",
       "477                Drama|Crime   \n",
       "1226           Action|Thriller   \n",
       "176        Romance|Drama|Music   \n",
       "492             Comedy|Romance   \n",
       "\n",
       "                                   production_companies release_date  \\\n",
       "142   Columbia Pictures|Marvel Enterprises|Avi Arad ...    4/16/2014   \n",
       "477   Twentieth Century Fox Film Corporation|Dune En...     9/2/2010   \n",
       "1226  Summit Entertainment|Atmosphere Entertainment ...    10/9/2013   \n",
       "176        Summit Entertainment|Offspring Entertainment    7/16/2014   \n",
       "492            Lions Gate Films|The Tyler Perry Company     4/2/2010   \n",
       "\n",
       "      vote_average  release_year  \n",
       "142            6.6          2014  \n",
       "477            5.8          2010  \n",
       "1226           6.7          2013  \n",
       "176            6.7          2014  \n",
       "492            6.0          2010  "
      ]
     },
     "execution_count": 2,
     "metadata": {},
     "output_type": "execute_result"
    }
   ],
   "source": [
    "data = pd.read_csv('C://Users//А4//projects//Projects//module_1//movie_bd_v5.csv')\n",
    "data.sample(5)"
   ]
  },
  {
   "cell_type": "code",
   "execution_count": 3,
   "metadata": {
    "colab": {},
    "colab_type": "code",
    "id": "CoYUnagMVp-C"
   },
   "outputs": [
    {
     "data": {
      "text/html": [
       "<div>\n",
       "<style scoped>\n",
       "    .dataframe tbody tr th:only-of-type {\n",
       "        vertical-align: middle;\n",
       "    }\n",
       "\n",
       "    .dataframe tbody tr th {\n",
       "        vertical-align: top;\n",
       "    }\n",
       "\n",
       "    .dataframe thead th {\n",
       "        text-align: right;\n",
       "    }\n",
       "</style>\n",
       "<table border=\"1\" class=\"dataframe\">\n",
       "  <thead>\n",
       "    <tr style=\"text-align: right;\">\n",
       "      <th></th>\n",
       "      <th>budget</th>\n",
       "      <th>revenue</th>\n",
       "      <th>runtime</th>\n",
       "      <th>vote_average</th>\n",
       "      <th>release_year</th>\n",
       "    </tr>\n",
       "  </thead>\n",
       "  <tbody>\n",
       "    <tr>\n",
       "      <th>count</th>\n",
       "      <td>1.889000e+03</td>\n",
       "      <td>1.889000e+03</td>\n",
       "      <td>1889.000000</td>\n",
       "      <td>1889.000000</td>\n",
       "      <td>1889.000000</td>\n",
       "    </tr>\n",
       "    <tr>\n",
       "      <th>mean</th>\n",
       "      <td>5.431083e+07</td>\n",
       "      <td>1.553653e+08</td>\n",
       "      <td>109.658549</td>\n",
       "      <td>6.140762</td>\n",
       "      <td>2007.860773</td>\n",
       "    </tr>\n",
       "    <tr>\n",
       "      <th>std</th>\n",
       "      <td>4.858721e+07</td>\n",
       "      <td>2.146698e+08</td>\n",
       "      <td>18.017041</td>\n",
       "      <td>0.764763</td>\n",
       "      <td>4.468841</td>\n",
       "    </tr>\n",
       "    <tr>\n",
       "      <th>min</th>\n",
       "      <td>5.000000e+06</td>\n",
       "      <td>2.033165e+06</td>\n",
       "      <td>63.000000</td>\n",
       "      <td>3.300000</td>\n",
       "      <td>2000.000000</td>\n",
       "    </tr>\n",
       "    <tr>\n",
       "      <th>25%</th>\n",
       "      <td>2.000000e+07</td>\n",
       "      <td>3.456058e+07</td>\n",
       "      <td>97.000000</td>\n",
       "      <td>5.600000</td>\n",
       "      <td>2004.000000</td>\n",
       "    </tr>\n",
       "    <tr>\n",
       "      <th>50%</th>\n",
       "      <td>3.800000e+07</td>\n",
       "      <td>8.361541e+07</td>\n",
       "      <td>107.000000</td>\n",
       "      <td>6.100000</td>\n",
       "      <td>2008.000000</td>\n",
       "    </tr>\n",
       "    <tr>\n",
       "      <th>75%</th>\n",
       "      <td>7.200000e+07</td>\n",
       "      <td>1.782626e+08</td>\n",
       "      <td>120.000000</td>\n",
       "      <td>6.600000</td>\n",
       "      <td>2012.000000</td>\n",
       "    </tr>\n",
       "    <tr>\n",
       "      <th>max</th>\n",
       "      <td>3.800000e+08</td>\n",
       "      <td>2.781506e+09</td>\n",
       "      <td>214.000000</td>\n",
       "      <td>8.100000</td>\n",
       "      <td>2015.000000</td>\n",
       "    </tr>\n",
       "  </tbody>\n",
       "</table>\n",
       "</div>"
      ],
      "text/plain": [
       "             budget       revenue      runtime  vote_average  release_year\n",
       "count  1.889000e+03  1.889000e+03  1889.000000   1889.000000   1889.000000\n",
       "mean   5.431083e+07  1.553653e+08   109.658549      6.140762   2007.860773\n",
       "std    4.858721e+07  2.146698e+08    18.017041      0.764763      4.468841\n",
       "min    5.000000e+06  2.033165e+06    63.000000      3.300000   2000.000000\n",
       "25%    2.000000e+07  3.456058e+07    97.000000      5.600000   2004.000000\n",
       "50%    3.800000e+07  8.361541e+07   107.000000      6.100000   2008.000000\n",
       "75%    7.200000e+07  1.782626e+08   120.000000      6.600000   2012.000000\n",
       "max    3.800000e+08  2.781506e+09   214.000000      8.100000   2015.000000"
      ]
     },
     "execution_count": 3,
     "metadata": {},
     "output_type": "execute_result"
    }
   ],
   "source": [
    "data.describe()"
   ]
  },
  {
   "cell_type": "markdown",
   "metadata": {
    "colab_type": "text",
    "id": "DTIt7ezGVp-G"
   },
   "source": [
    "# Предобработка"
   ]
  },
  {
   "cell_type": "code",
   "execution_count": 4,
   "metadata": {
    "colab": {},
    "colab_type": "code",
    "id": "jNb40DwKVp-H"
   },
   "outputs": [],
   "source": [
    "answers = {} # создадим словарь для ответов\n",
    "\n",
    "# тут другие ваши предобработки колонок например:\n",
    "\n",
    "#the time given in the dataset is in string format.\n",
    "#So we need to change this in datetime format\n",
    "# ...\n",
    "\n",
    "# код получения столбца profit\n",
    "data['profit'] = data['revenue'] - data['budget']\n"
   ]
  },
  {
   "cell_type": "markdown",
   "metadata": {
    "colab_type": "text",
    "id": "YxZaH-nPVp-L"
   },
   "source": [
    "# 1. У какого фильма из списка самый большой бюджет?"
   ]
  },
  {
   "cell_type": "markdown",
   "metadata": {
    "colab_type": "text",
    "id": "Nd-G5gX6Vp-M"
   },
   "source": [
    "Использовать варианты ответов в коде решения запрещено.    \n",
    "Вы думаете и в жизни у вас будут варианты ответов?)"
   ]
  },
  {
   "cell_type": "code",
   "execution_count": 75,
   "metadata": {
    "colab": {},
    "colab_type": "code",
    "id": "uVnXAY5RVp-O"
   },
   "outputs": [],
   "source": [
    "# +\n",
    "answers['1'] = 'Pirates of the Caribbean: On Stranger Tides (tt1298650)'\n",
    "# Добавляем ответ в словарь"
   ]
  },
  {
   "cell_type": "code",
   "execution_count": 26,
   "metadata": {
    "colab": {},
    "colab_type": "code",
    "id": "dZwb3m28Vp-S"
   },
   "outputs": [
    {
     "data": {
      "text/plain": [
       "imdb_id                                                         tt1298650\n",
       "budget                                                          380000000\n",
       "revenue                                                        1021683000\n",
       "original_title                Pirates of the Caribbean: On Stranger Tides\n",
       "cast                    Johnny Depp|PenÃ©lope Cruz|Geoffrey Rush|Ian M...\n",
       "director                                                     Rob Marshall\n",
       "tagline                                       Live Forever Or Die Trying.\n",
       "overview                Captain Jack Sparrow crosses paths with a woma...\n",
       "runtime                                                               136\n",
       "genres                                           Adventure|Action|Fantasy\n",
       "production_companies    Walt Disney Pictures|Jerry Bruckheimer Films|M...\n",
       "release_date                                                    5/11/2011\n",
       "vote_average                                                          6.3\n",
       "release_year                                                         2011\n",
       "Name: 723, dtype: object"
      ]
     },
     "execution_count": 26,
     "metadata": {},
     "output_type": "execute_result"
    }
   ],
   "source": [
    "data.iloc[data['budget'].argmax()] \n",
    "# функция argmax находит номер строки с максимумом, а iloc выводит информацию о ней"
   ]
  },
  {
   "cell_type": "markdown",
   "metadata": {
    "colab_type": "text",
    "id": "K7L3nbRXVp-X"
   },
   "source": [
    "ВАРИАНТ 2"
   ]
  },
  {
   "cell_type": "code",
   "execution_count": 21,
   "metadata": {
    "colab": {},
    "colab_type": "code",
    "id": "OGaoQI7rVp-X"
   },
   "outputs": [],
   "source": [
    "# можно добавлять разные варианты решения"
   ]
  },
  {
   "cell_type": "markdown",
   "metadata": {
    "colab_type": "text",
    "id": "FNRbbI3vVp-c"
   },
   "source": [
    "# 2. Какой из фильмов самый длительный (в минутах)?"
   ]
  },
  {
   "cell_type": "code",
   "execution_count": 36,
   "metadata": {
    "colab": {},
    "colab_type": "code",
    "id": "vHAoEXNTVp-d"
   },
   "outputs": [],
   "source": [
    "# +\n",
    "answers['2'] = 'Gods and Generals (tt0279111)'\n",
    "# Добавляем ответ в словарь"
   ]
  },
  {
   "cell_type": "code",
   "execution_count": 32,
   "metadata": {
    "colab": {},
    "colab_type": "code",
    "id": "ot-VX2XrVp-g"
   },
   "outputs": [
    {
     "data": {
      "text/plain": [
       "imdb_id                                                         tt0279111\n",
       "budget                                                           56000000\n",
       "revenue                                                          12923936\n",
       "original_title                                          Gods and Generals\n",
       "cast                    Stephen Lang|Jeff Daniels|Robert Duvall|Kevin ...\n",
       "director                                                Ronald F. Maxwell\n",
       "tagline                               The nations heart was touched by...\n",
       "overview                The film centers mostly around the personal an...\n",
       "runtime                                                               214\n",
       "genres                                                  Drama|History|War\n",
       "production_companies                   Turner Pictures|Antietam Filmworks\n",
       "release_date                                                    2/21/2003\n",
       "vote_average                                                          5.8\n",
       "release_year                                                         2003\n",
       "Name: 1157, dtype: object"
      ]
     },
     "execution_count": 32,
     "metadata": {},
     "output_type": "execute_result"
    }
   ],
   "source": [
    "data.iloc[data['runtime'].argmax()] \n",
    "# функция argmax находит номер строки с максимумом, а iloc выводит информацию о ней"
   ]
  },
  {
   "cell_type": "markdown",
   "metadata": {
    "colab_type": "text",
    "id": "bapLlpW8Vp-k"
   },
   "source": [
    "# 3. Какой из фильмов самый короткий (в минутах)?\n",
    "\n",
    "\n",
    "\n"
   ]
  },
  {
   "cell_type": "code",
   "execution_count": 37,
   "metadata": {
    "colab": {},
    "colab_type": "code",
    "id": "YBxaSHuAVp-l"
   },
   "outputs": [],
   "source": [
    "# +\n",
    "answers['3'] = 'Winnie the Pooh (tt1449283)'\n",
    "# Добавляем ответ в словарь"
   ]
  },
  {
   "cell_type": "code",
   "execution_count": 33,
   "metadata": {},
   "outputs": [
    {
     "data": {
      "text/plain": [
       "imdb_id                                                         tt1449283\n",
       "budget                                                           30000000\n",
       "revenue                                                          14460000\n",
       "original_title                                            Winnie the Pooh\n",
       "cast                    Jim Cummings|Travis Oates|Jim Cummings|Bud Luc...\n",
       "director                                        Stephen Anderson|Don Hall\n",
       "tagline                                                          Oh Pooh.\n",
       "overview                During an ordinary day in Hundred Acre Wood, W...\n",
       "runtime                                                                63\n",
       "genres                                                   Animation|Family\n",
       "production_companies    Walt Disney Pictures|Walt Disney Animation Stu...\n",
       "release_date                                                    4/13/2011\n",
       "vote_average                                                          6.8\n",
       "release_year                                                         2011\n",
       "Name: 768, dtype: object"
      ]
     },
     "execution_count": 33,
     "metadata": {},
     "output_type": "execute_result"
    }
   ],
   "source": [
    "data.iloc[data['runtime'].argmin()] \n",
    "# функция argmin находит номер строки с минимумом, а iloc выводит информацию о ней"
   ]
  },
  {
   "cell_type": "markdown",
   "metadata": {
    "colab_type": "text",
    "id": "TfQbxbfNVp-p"
   },
   "source": [
    "# 4. Какова средняя длительность фильмов?\n"
   ]
  },
  {
   "cell_type": "code",
   "execution_count": 48,
   "metadata": {
    "colab": {},
    "colab_type": "code",
    "id": "5K6dKZYVVp-q"
   },
   "outputs": [],
   "source": [
    "# +\n",
    "answers['4'] = '110'\n",
    "# Добавляем ответ в словарь"
   ]
  },
  {
   "cell_type": "code",
   "execution_count": 47,
   "metadata": {},
   "outputs": [
    {
     "data": {
      "text/plain": [
       "110"
      ]
     },
     "execution_count": 47,
     "metadata": {},
     "output_type": "execute_result"
    }
   ],
   "source": [
    "round(data['runtime'].mean())\n",
    "# Находим среднее значение через mean в столбце runtime, округляем до целого функцией round"
   ]
  },
  {
   "cell_type": "markdown",
   "metadata": {
    "colab_type": "text",
    "id": "r5TvbnT_Vp-u"
   },
   "source": [
    "# 5. Каково медианное значение длительности фильмов? "
   ]
  },
  {
   "cell_type": "code",
   "execution_count": 50,
   "metadata": {
    "colab": {},
    "colab_type": "code",
    "id": "iBROplKnVp-v"
   },
   "outputs": [],
   "source": [
    "# +\n",
    "answers['5'] = '107'\n",
    "# Добавляем ответ в словарь"
   ]
  },
  {
   "cell_type": "code",
   "execution_count": 49,
   "metadata": {},
   "outputs": [
    {
     "data": {
      "text/plain": [
       "107"
      ]
     },
     "execution_count": 49,
     "metadata": {},
     "output_type": "execute_result"
    }
   ],
   "source": [
    "round(data['runtime'].median())\n",
    "# Находим медианное значение через median в столбце runtime, округляем до целого функцией round"
   ]
  },
  {
   "cell_type": "markdown",
   "metadata": {
    "colab_type": "text",
    "id": "39P-deDSVp-y"
   },
   "source": [
    "# 6. Какой самый прибыльный фильм?\n",
    "#### Внимание! Здесь и далее под «прибылью» или «убытками» понимается разность между сборами и бюджетом фильма. (прибыль = сборы - бюджет) в нашем датасете это будет (profit = revenue - budget) "
   ]
  },
  {
   "cell_type": "code",
   "execution_count": 62,
   "metadata": {},
   "outputs": [],
   "source": [
    "# +\n",
    "answers['6'] = 'Avatar (tt0499549)'\n",
    "# Добавляем ответ в словарь"
   ]
  },
  {
   "cell_type": "code",
   "execution_count": 54,
   "metadata": {},
   "outputs": [],
   "source": [
    "# лучше код получения столбца profit вынести в Предобработку что в начале\n",
    "# вынес в главу Предобработка"
   ]
  },
  {
   "cell_type": "code",
   "execution_count": 61,
   "metadata": {
    "colab": {},
    "colab_type": "code",
    "id": "UYZh4T9WVp-y"
   },
   "outputs": [
    {
     "data": {
      "text/plain": [
       "imdb_id                                                         tt0499549\n",
       "budget                                                          237000000\n",
       "revenue                                                        2781505847\n",
       "original_title                                                     Avatar\n",
       "cast                    Sam Worthington|Zoe Saldana|Sigourney Weaver|S...\n",
       "director                                                    James Cameron\n",
       "tagline                                       Enter the World of Pandora.\n",
       "overview                In the 22nd century, a paraplegic Marine is di...\n",
       "runtime                                                               162\n",
       "genres                           Action|Adventure|Fantasy|Science Fiction\n",
       "production_companies    Ingenious Film Partners|Twentieth Century Fox ...\n",
       "release_date                                                   12/10/2009\n",
       "vote_average                                                          7.1\n",
       "release_year                                                         2009\n",
       "profit                                                         2544505847\n",
       "Name: 239, dtype: object"
      ]
     },
     "execution_count": 61,
     "metadata": {},
     "output_type": "execute_result"
    }
   ],
   "source": [
    "data.iloc[data['profit'].argmax()] \n",
    "# функция argmax находит номер строки с максимумом столбца profit, а iloc выводит информацию о ней"
   ]
  },
  {
   "cell_type": "markdown",
   "metadata": {
    "colab_type": "text",
    "id": "M99JmIX4Vp-2"
   },
   "source": [
    "# 7. Какой фильм самый убыточный? "
   ]
  },
  {
   "cell_type": "code",
   "execution_count": 64,
   "metadata": {
    "colab": {},
    "colab_type": "code",
    "id": "w-D2m4XPVp-3"
   },
   "outputs": [],
   "source": [
    "# +\n",
    "answers['7'] = 'The Lone Ranger (tt1210819)'\n",
    "# Добавляем ответ в словарь"
   ]
  },
  {
   "cell_type": "code",
   "execution_count": 63,
   "metadata": {},
   "outputs": [
    {
     "data": {
      "text/plain": [
       "imdb_id                                                         tt1210819\n",
       "budget                                                          255000000\n",
       "revenue                                                          89289910\n",
       "original_title                                            The Lone Ranger\n",
       "cast                    Johnny Depp|Armie Hammer|William Fichtner|Hele...\n",
       "director                                                   Gore Verbinski\n",
       "tagline                                           Never Take Off the Mask\n",
       "overview                The Texas Rangers chase down a gang of outlaws...\n",
       "runtime                                                               149\n",
       "genres                                           Action|Adventure|Western\n",
       "production_companies    Walt Disney Pictures|Jerry Bruckheimer Films|I...\n",
       "release_date                                                     7/3/2013\n",
       "vote_average                                                            6\n",
       "release_year                                                         2013\n",
       "profit                                                         -165710090\n",
       "Name: 1245, dtype: object"
      ]
     },
     "execution_count": 63,
     "metadata": {},
     "output_type": "execute_result"
    }
   ],
   "source": [
    "data.iloc[data['profit'].argmin()]\n",
    "# функция argmin находит номер строки с минимумом столбца profit, а iloc выводит информацию о ней"
   ]
  },
  {
   "cell_type": "markdown",
   "metadata": {
    "colab_type": "text",
    "id": "wEOM5ERVVp-6"
   },
   "source": [
    "# 8. У скольких фильмов из датасета объем сборов оказался выше бюджета?"
   ]
  },
  {
   "cell_type": "code",
   "execution_count": 0,
   "metadata": {
    "colab": {},
    "colab_type": "code",
    "id": "y00_7HD6Vp-7"
   },
   "outputs": [],
   "source": [
    "# +\n",
    "answers['8'] = '1478'\n",
    "# Добавляем ответ в словарь"
   ]
  },
  {
   "cell_type": "code",
   "execution_count": 65,
   "metadata": {},
   "outputs": [
    {
     "data": {
      "text/plain": [
       "1478"
      ]
     },
     "execution_count": 65,
     "metadata": {},
     "output_type": "execute_result"
    }
   ],
   "source": [
    "len(data[data['profit'] > 0])\n",
    "# с помощью простой фильтрации находим фильмы в датафрейме с положительным profit, \n",
    "# вычисляем длинну датафрейма с функцией len"
   ]
  },
  {
   "cell_type": "markdown",
   "metadata": {
    "colab_type": "text",
    "id": "xhpspA9KVp_A"
   },
   "source": [
    "# 9. Какой фильм оказался самым кассовым в 2008 году?"
   ]
  },
  {
   "cell_type": "code",
   "execution_count": 0,
   "metadata": {
    "colab": {},
    "colab_type": "code",
    "id": "MoUyQr9RVp_B"
   },
   "outputs": [],
   "source": [
    "# +\n",
    "answers['9'] = 'The Dark Knight (tt0468569)'\n",
    "# Добавляем ответ в словарь"
   ]
  },
  {
   "cell_type": "code",
   "execution_count": 69,
   "metadata": {},
   "outputs": [
    {
     "data": {
      "text/plain": [
       "imdb_id                                                         tt0468569\n",
       "budget                                                          185000000\n",
       "revenue                                                        1001921825\n",
       "original_title                                            The Dark Knight\n",
       "cast                    Christian Bale|Michael Caine|Heath Ledger|Aaro...\n",
       "director                                                Christopher Nolan\n",
       "tagline                                                   Why So Serious?\n",
       "overview                Batman raises the stakes in his war on crime. ...\n",
       "runtime                                                               152\n",
       "genres                                        Drama|Action|Crime|Thriller\n",
       "production_companies    DC Comics|Legendary Pictures|Warner Bros.|Syncopy\n",
       "release_date                                                    7/16/2008\n",
       "vote_average                                                          8.1\n",
       "release_year                                                         2008\n",
       "profit                                                          816921825\n",
       "Name: 599, dtype: object"
      ]
     },
     "execution_count": 69,
     "metadata": {},
     "output_type": "execute_result"
    }
   ],
   "source": [
    "# создаем датафрейм фильмов с релизом в 2008 году\n",
    "data_2008 = data[data['release_year'] == 2008]\n",
    "\n",
    "# функция argmax находит номер строки с максимумом столбца profit, а iloc выводит информацию о ней\n",
    "data_2008.iloc[data_2008['profit'].argmax()] "
   ]
  },
  {
   "cell_type": "markdown",
   "metadata": {
    "colab_type": "text",
    "id": "Zi4hDKidVp_F"
   },
   "source": [
    "# 10. Самый убыточный фильм за период с 2012 по 2014 г. (включительно)?\n"
   ]
  },
  {
   "cell_type": "code",
   "execution_count": 73,
   "metadata": {},
   "outputs": [],
   "source": [
    "# +\n",
    "answers['10'] = 'The Lone Ranger (tt1210819)'\n",
    "# Добавляем ответ в словарь"
   ]
  },
  {
   "cell_type": "code",
   "execution_count": 106,
   "metadata": {
    "colab": {},
    "colab_type": "code",
    "id": "XqyRmufJVp_F"
   },
   "outputs": [
    {
     "data": {
      "text/plain": [
       "imdb_id                                                         tt1210819\n",
       "budget                                                          255000000\n",
       "revenue                                                          89289910\n",
       "original_title                                            The Lone Ranger\n",
       "cast                    Johnny Depp|Armie Hammer|William Fichtner|Hele...\n",
       "director                                                   Gore Verbinski\n",
       "tagline                                           Never Take Off the Mask\n",
       "overview                The Texas Rangers chase down a gang of outlaws...\n",
       "runtime                                                               149\n",
       "genres                                           Action|Adventure|Western\n",
       "production_companies    Walt Disney Pictures|Jerry Bruckheimer Films|I...\n",
       "release_date                                                     7/3/2013\n",
       "vote_average                                                            6\n",
       "release_year                                                         2013\n",
       "profit                                                         -165710090\n",
       "Name: 1245, dtype: object"
      ]
     },
     "execution_count": 106,
     "metadata": {},
     "output_type": "execute_result"
    }
   ],
   "source": [
    "# создаем датафрейм фильмов с релизом c 2012 по 2014 годы включительно\n",
    "data_2012_2014 = data[(data['release_year'] > 2011) & (data['release_year'] < 2015)]\n",
    "\n",
    "# функция argmin находит номер строки с минимумом столбца profit, а iloc выводит информацию о ней\n",
    "data_2012_2014.iloc[data_2012_2014['profit'].argmin()] "
   ]
  },
  {
   "cell_type": "markdown",
   "metadata": {
    "colab_type": "text",
    "id": "EA7Sa9dkVp_I"
   },
   "source": [
    "# 11. Какого жанра фильмов больше всего?"
   ]
  },
  {
   "cell_type": "code",
   "execution_count": 0,
   "metadata": {
    "colab": {},
    "colab_type": "code",
    "id": "zsJAwJ8QVp_J"
   },
   "outputs": [],
   "source": [
    "# эту задачу тоже можно решать разными подходами, попробуй реализовать разные варианты\n",
    "# если будешь добавлять функцию - выноси ее в предобработку что в начале"
   ]
  },
  {
   "cell_type": "code",
   "execution_count": null,
   "metadata": {},
   "outputs": [],
   "source": [
    "# +\n",
    "answers['11'] = 'Drama'\n",
    "# Добавляем ответ в словарь"
   ]
  },
  {
   "cell_type": "code",
   "execution_count": 104,
   "metadata": {},
   "outputs": [
    {
     "data": {
      "text/plain": [
       "Drama              782\n",
       "Comedy             683\n",
       "Thriller           596\n",
       "Action             582\n",
       "Adventure          415\n",
       "Crime              315\n",
       "Romance            308\n",
       "Family             260\n",
       "Science Fiction    248\n",
       "Fantasy            222\n",
       "Horror             176\n",
       "Mystery            168\n",
       "Animation          139\n",
       "Music               64\n",
       "History             62\n",
       "War                 58\n",
       "Western             19\n",
       "Documentary          8\n",
       "Foreign              2\n",
       "dtype: int64"
      ]
     },
     "execution_count": 104,
     "metadata": {},
     "output_type": "execute_result"
    }
   ],
   "source": [
    "# ВАРИАНТ 1\n",
    "\n",
    "# Создаем список жанров фильмов функцией sum, разделив перед этим значения ячеек genres функцией split('|')\n",
    "# Создаем Series из списка жанров\n",
    "data_genres = pd.Series(data.genres.str.split('|').sum())\n",
    "\n",
    "# Считаем колличество значений для каждого жанра \n",
    "data_genres.value_counts()"
   ]
  },
  {
   "cell_type": "markdown",
   "metadata": {
    "colab_type": "text",
    "id": "Ax6g2C8SVp_M"
   },
   "source": [
    "ВАРИАНТ 2"
   ]
  },
  {
   "cell_type": "code",
   "execution_count": 102,
   "metadata": {
    "colab": {},
    "colab_type": "code",
    "id": "otO3SbrSVp_N"
   },
   "outputs": [
    {
     "data": {
      "text/plain": [
       "Drama              782\n",
       "Comedy             683\n",
       "Thriller           596\n",
       "Action             582\n",
       "Adventure          415\n",
       "Crime              315\n",
       "Romance            308\n",
       "Family             260\n",
       "Science Fiction    248\n",
       "Fantasy            222\n",
       "Horror             176\n",
       "Mystery            168\n",
       "Animation          139\n",
       "Music               64\n",
       "History             62\n",
       "War                 58\n",
       "Western             19\n",
       "Documentary          8\n",
       "Foreign              2\n",
       "dtype: int64"
      ]
     },
     "execution_count": 102,
     "metadata": {},
     "output_type": "execute_result"
    }
   ],
   "source": [
    "# Все тоже самое для варинта 1, но в одну строку\n",
    "pd.Series(data.genres.str.split('|').sum()).value_counts()"
   ]
  },
  {
   "cell_type": "markdown",
   "metadata": {
    "colab_type": "text",
    "id": "T9_bPWpkVp_Q"
   },
   "source": [
    "# 12. Фильмы какого жанра чаще всего становятся прибыльными? "
   ]
  },
  {
   "cell_type": "code",
   "execution_count": 109,
   "metadata": {},
   "outputs": [],
   "source": [
    "# +\n",
    "answers['12'] = 'Drama'\n",
    "# Добавляем ответ в словарь"
   ]
  },
  {
   "cell_type": "code",
   "execution_count": 108,
   "metadata": {
    "colab": {},
    "colab_type": "code",
    "id": "Tmt8MaK1Vp_R"
   },
   "outputs": [
    {
     "data": {
      "text/plain": [
       "Drama              560\n",
       "Comedy             551\n",
       "Thriller           446\n",
       "Action             444\n",
       "Adventure          337\n",
       "Romance            242\n",
       "Crime              231\n",
       "Family             226\n",
       "Science Fiction    195\n",
       "Fantasy            188\n",
       "Horror             150\n",
       "Animation          120\n",
       "Mystery            119\n",
       "Music               47\n",
       "History             46\n",
       "War                 41\n",
       "Western             12\n",
       "Documentary          7\n",
       "dtype: int64"
      ]
     },
     "execution_count": 108,
     "metadata": {},
     "output_type": "execute_result"
    }
   ],
   "source": [
    "# создаем датафрейм фильмов с profit болльше нуля, т.е. прибыльных\n",
    "data_profit = data[data['profit'] > 0]\n",
    "\n",
    "# Создаем список жанров фильмов функцией sum, разделив перед этим значения ячеек genres функцией split('|')\n",
    "# Создаем Series из списка жанров\n",
    "# Считаем колличество значений для каждого жанра с помощью функции value_counts\n",
    "pd.Series(data_profit.genres.str.split('|').sum()).value_counts()"
   ]
  },
  {
   "cell_type": "markdown",
   "metadata": {
    "colab_type": "text",
    "id": "0F23bgsDVp_U"
   },
   "source": [
    "# 13. У какого режиссера самые большие суммарные кассовые сборы?"
   ]
  },
  {
   "cell_type": "code",
   "execution_count": 18,
   "metadata": {
    "colab": {},
    "colab_type": "code",
    "id": "K6Z3J8ygVp_X"
   },
   "outputs": [],
   "source": [
    "# +\n",
    "answers['13'] = 'Peter Jackson'\n",
    "# Добавляем ответ в словарь"
   ]
  },
  {
   "cell_type": "code",
   "execution_count": 17,
   "metadata": {},
   "outputs": [
    {
     "data": {
      "text/plain": [
       "director\n",
       "Peter Jackson    6490593685\n",
       "Name: revenue, dtype: int64"
      ]
     },
     "execution_count": 17,
     "metadata": {},
     "output_type": "execute_result"
    }
   ],
   "source": [
    "# создаем копию \n",
    "data_director = data.copy()\n",
    "\n",
    "# разделяем значения столбца director по знаку '|'\n",
    "data_director['director'] = data_director.director.str.split('|')\n",
    "\n",
    "# функцией explode создаем копии строк в которых несколько режисеров с одним режисером\n",
    "data_director_1 = data_director.explode('director')\n",
    "\n",
    "# создаем датафрейм data_director, группируем в него с помощью функции groupby сумму (sum) сборов (revenue)\n",
    "# по каждому режисеру (director), сортируем датафрейм функцией sort_values по убыванию ascending=False\n",
    "data_director_2 = data_director_1.groupby(['director'])['revenue'].sum().sort_values(ascending=False)\n",
    "\n",
    "# выводим первую строку датафрейма с ответом\n",
    "data_director_2.head(1)"
   ]
  },
  {
   "cell_type": "markdown",
   "metadata": {
    "colab_type": "text",
    "id": "PsYC9FgRVp_a"
   },
   "source": [
    "# 14. Какой режисер снял больше всего фильмов в стиле Action?"
   ]
  },
  {
   "cell_type": "code",
   "execution_count": 49,
   "metadata": {
    "colab": {},
    "colab_type": "code",
    "id": "wd2M-wHeVp_b"
   },
   "outputs": [],
   "source": [
    "# +\n",
    "answers['14'] = 'Robert Rodriguez'\n",
    "# Добавляем ответ в словарь"
   ]
  },
  {
   "cell_type": "code",
   "execution_count": 50,
   "metadata": {},
   "outputs": [
    {
     "data": {
      "text/plain": [
       "Robert Rodriguez      9\n",
       "Paul W.S. Anderson    7\n",
       "Michael Bay           7\n",
       "Ridley Scott          6\n",
       "Antoine Fuqua         6\n",
       "                     ..\n",
       "Wayne Kramer          1\n",
       "Andrew Stanton        1\n",
       "Rod Lurie             1\n",
       "Jay Chandrasekhar     1\n",
       "Kevin Smith           1\n",
       "Name: director, Length: 364, dtype: int64"
      ]
     },
     "execution_count": 50,
     "metadata": {},
     "output_type": "execute_result"
    }
   ],
   "source": [
    "# создаем копию \n",
    "data_director = data.copy()\n",
    "\n",
    "# разделяем значения столбца director по знаку '|'\n",
    "data_director['director'] = data_director.director.str.split('|')\n",
    "\n",
    "# создаем новый датафрейм, функцией explode создаем копии строк в которых несколько режисеров с одним режисером\n",
    "data_director_1 = data_director.explode('director')\n",
    "\n",
    "# далее используем разделенный по одному режисеру файл data_director_1\n",
    "# разделяем значения столбца genres по знаку '|'\n",
    "data_director_1['genres'] = data_director_1.genres.str.split('|')\n",
    "\n",
    "# создаем новый датафрейм, функцией explode создаем копии строк в которых несколько жанров с одним жанром\n",
    "data_director_genres_1 = data_director_1.explode('genres')\n",
    "\n",
    "# с помощью функции contains фильтруем в столбце genres по фильмам жанра Action режисеров \n",
    "# сортируем датафрейм функцией sort_values по убыванию ascending=False\n",
    "data_director_genres_1[data_director_genres_1['genres'].str.contains('Action')]['director'].\\\n",
    "value_counts().sort_values(ascending=False)"
   ]
  },
  {
   "cell_type": "markdown",
   "metadata": {
    "colab_type": "text",
    "id": "PQ0KciD7Vp_f"
   },
   "source": [
    "# 15. Фильмы с каким актером принесли самые высокие кассовые сборы в 2012 году? "
   ]
  },
  {
   "cell_type": "code",
   "execution_count": 0,
   "metadata": {
    "colab": {},
    "colab_type": "code",
    "id": "aga62oeKVp_g"
   },
   "outputs": [],
   "source": [
    "# +\n",
    "answers['15'] = 'Chris Hemsworth'\n",
    "# Добавляем ответ в словарь"
   ]
  },
  {
   "cell_type": "code",
   "execution_count": 58,
   "metadata": {},
   "outputs": [
    {
     "data": {
      "text/plain": [
       "cast\n",
       "Chris Hemsworth    2027450773\n",
       "Name: revenue, dtype: int64"
      ]
     },
     "execution_count": 58,
     "metadata": {},
     "output_type": "execute_result"
    }
   ],
   "source": [
    "# создаем копию \n",
    "data_cast = data.copy()\n",
    "\n",
    "# разделяем значения столбца актеры cast по знаку '|'\n",
    "data_cast['cast'] = data_cast.cast.str.split('|')\n",
    "\n",
    "# создаем новый датафрейм, функцией explode создаем копии строк в которых несколько актеров с одним актером\n",
    "data_cast_1 = data_cast.explode('cast')\n",
    "\n",
    "# создаем датафрейм фильмов с релизом в 2012 году\n",
    "data_cast_2012 = data_cast_1[data_cast_1['release_year'] == 2012]\n",
    "\n",
    "# создаем датафрейм revenue_cast_2012, группируем в него с помощью функции groupby сумму (sum) сборов (revenue)\n",
    "# по каждому актеру (cast), сортируем датафрейм функцией sort_values по убыванию ascending=False\n",
    "revenue_cast_2012 = data_cast_2012.groupby(['cast'])['revenue'].sum().sort_values(ascending=False)\n",
    "\n",
    "# выводим первую строку датафрейма с ответом\n",
    "revenue_cast_2012.head(1)"
   ]
  },
  {
   "cell_type": "markdown",
   "metadata": {
    "colab_type": "text",
    "id": "mWHyyL7QVp_j"
   },
   "source": [
    "# 16. Какой актер снялся в большем количестве высокобюджетных фильмов?"
   ]
  },
  {
   "cell_type": "code",
   "execution_count": 68,
   "metadata": {
    "colab": {},
    "colab_type": "code",
    "id": "qQtmHKTFVp_k"
   },
   "outputs": [],
   "source": [
    "# +\n",
    "answers['16'] = 'Matt Damon'\n",
    "# Добавляем ответ в словарь"
   ]
  },
  {
   "cell_type": "code",
   "execution_count": 67,
   "metadata": {},
   "outputs": [
    {
     "data": {
      "text/plain": [
       "Matt Damon           18\n",
       "Adam Sandler         17\n",
       "Angelina Jolie       16\n",
       "Samuel L. Jackson    15\n",
       "Eddie Murphy         15\n",
       "                     ..\n",
       "Johnny Whitworth      1\n",
       "Charlie Tahan         1\n",
       "Sarah Wynter          1\n",
       "Oliver Reed           1\n",
       "Rachel Bilson         1\n",
       "Name: cast, Length: 1505, dtype: int64"
      ]
     },
     "execution_count": 67,
     "metadata": {},
     "output_type": "execute_result"
    }
   ],
   "source": [
    "# создаем копию \n",
    "data_cast_rich = data.copy()\n",
    "\n",
    "# разделяем значения столбца актеры cast по знаку '|'\n",
    "data_cast_rich['cast'] = data_cast_rich.cast.str.split('|')\n",
    "\n",
    "# создаем новый датафрейм, функцией explode создаем копии строк в которых несколько актеров с одним актером\n",
    "data_cast_rich_1 = data_cast_rich.explode('cast')\n",
    "\n",
    "# вычисляем средний бюджет\n",
    "budget_mean = round(data['budget'].mean())\n",
    "\n",
    "# создаем новый датафрейм с фильмами с бюджетом больше среднего\n",
    "data_high_budget = data_cast_rich_1[data_cast_rich_1['budget'] > budget_mean]\n",
    "\n",
    "# с помощью функции value_counts считаем в скольких фильмах с бюджетом выше среднего снимались актеры\n",
    "cast_high_budget = data_high_budget['cast'].value_counts()\n",
    "cast_high_budget"
   ]
  },
  {
   "cell_type": "markdown",
   "metadata": {
    "colab_type": "text",
    "id": "NIh6AaW5Vp_n"
   },
   "source": [
    "# 17. В фильмах какого жанра больше всего снимался Nicolas Cage? "
   ]
  },
  {
   "cell_type": "code",
   "execution_count": 72,
   "metadata": {
    "colab": {},
    "colab_type": "code",
    "id": "H74SJDIBVp_n"
   },
   "outputs": [],
   "source": [
    "# +\n",
    "answers['17'] = 'Action'\n",
    "# Добавляем ответ в словарь"
   ]
  },
  {
   "cell_type": "code",
   "execution_count": 71,
   "metadata": {},
   "outputs": [
    {
     "data": {
      "text/plain": [
       "Action             17\n",
       "Thriller           15\n",
       "Drama              12\n",
       "Crime              10\n",
       "Fantasy             8\n",
       "Adventure           7\n",
       "Comedy              6\n",
       "Science Fiction     4\n",
       "Family              3\n",
       "Animation           3\n",
       "Mystery             3\n",
       "History             2\n",
       "War                 1\n",
       "Romance             1\n",
       "Horror              1\n",
       "Name: genres, dtype: int64"
      ]
     },
     "execution_count": 71,
     "metadata": {},
     "output_type": "execute_result"
    }
   ],
   "source": [
    "# создаем копию \n",
    "data_cast_genres = data.copy()\n",
    "\n",
    "# разделяем значения столбца актеры cast по знаку '|'\n",
    "data_cast_genres['cast'] = data_cast_genres.cast.str.split('|')\n",
    "\n",
    "# создаем новый датафрейм, функцией explode создаем копии строк в которых несколько актеров с одним актером\n",
    "data_cast_genres_1 = data_cast_genres.explode('cast')\n",
    "\n",
    "# далее используем разделенный по одному актеру файл data_cast_genres_1\n",
    "# разделяем значения столбца genres по знаку '|'\n",
    "data_cast_genres_1['genres'] = data_cast_genres_1.genres.str.split('|')\n",
    "\n",
    "# создаем новый датафрейм, функцией explode создаем копии строк в которых несколько жанров с одним жанром\n",
    "data_cast_genres_2 = data_cast_genres_1.explode('genres')\n",
    "\n",
    "# создаем новый датафрейм с фильмами с Nicolas Cage\n",
    "data_genres_Nicolas_Cage = data_cast_genres_2[data_cast_genres_2['cast'] == 'Nicolas Cage']\n",
    "\n",
    "# с помощью функции value_counts считаем фильмы с жанрами\n",
    "genres_Nicolas_Cage = data_genres_Nicolas_Cage['genres'].value_counts()\n",
    "genres_Nicolas_Cage"
   ]
  },
  {
   "cell_type": "markdown",
   "metadata": {
    "colab_type": "text",
    "id": "RqOmPRfWVp_q"
   },
   "source": [
    "# 18. Самый убыточный фильм от Paramount Pictures"
   ]
  },
  {
   "cell_type": "code",
   "execution_count": 13,
   "metadata": {
    "colab": {},
    "colab_type": "code",
    "id": "9E_B0Y96Vp_r"
   },
   "outputs": [],
   "source": [
    "# +\n",
    "answers['18'] = 'K-19: The Widowmaker (tt0267626)'\n",
    "# Добавляем ответ в словарь"
   ]
  },
  {
   "cell_type": "code",
   "execution_count": 29,
   "metadata": {},
   "outputs": [
    {
     "data": {
      "text/plain": [
       "imdb_id                                                         tt0267626\n",
       "budget                                                          100000000\n",
       "revenue                                                          35168966\n",
       "original_title                                       K-19: The Widowmaker\n",
       "cast                    Harrison Ford|Liam Neeson|Peter Sarsgaard|Joss...\n",
       "director                                                  Kathryn Bigelow\n",
       "tagline                                          Fate has found its hero.\n",
       "overview                When Russia's first nuclear submarine malfunct...\n",
       "runtime                                                               138\n",
       "genres                                             Thriller|Drama|History\n",
       "production_companies                                   Paramount Pictures\n",
       "release_date                                                    7/19/2002\n",
       "vote_average                                                            6\n",
       "release_year                                                         2002\n",
       "profit                                                          -64831034\n",
       "Name: 925, dtype: object"
      ]
     },
     "execution_count": 29,
     "metadata": {},
     "output_type": "execute_result"
    }
   ],
   "source": [
    "# создаем копию \n",
    "data_companies = data.copy()\n",
    "\n",
    "# разделяем значения столбца компании (production_companies) по знаку '|'\n",
    "data_companies['production_companies'] = data_companies.production_companies.str.split('|')\n",
    "\n",
    "# создаем новый датафрейм, функцией explode создаем копии строк в которых несколько компаний с одной компанией\n",
    "data_companies_1 = data_companies.explode('production_companies')\n",
    "\n",
    "# создаем датафрейм data_Paramount и фильтруем в него датафрейм data_companies_1\n",
    "data_Paramount = data_companies_1[data_companies_1['production_companies'] == 'Paramount Pictures']\n",
    "\n",
    "# функция argmin находит номер строки с минимумом столбца profit, а iloc выводит информацию о ней\n",
    "data_Paramount.iloc[data_Paramount['profit'].argmin()]"
   ]
  },
  {
   "cell_type": "markdown",
   "metadata": {
    "colab_type": "text",
    "id": "vS8Ur6ddVp_u"
   },
   "source": [
    "# 19. Какой год стал самым успешным по суммарным кассовым сборам?"
   ]
  },
  {
   "cell_type": "code",
   "execution_count": 17,
   "metadata": {
    "colab": {},
    "colab_type": "code",
    "id": "Dnbt4GdIVp_v"
   },
   "outputs": [],
   "source": [
    "# +\n",
    "answers['19'] = '2015'\n",
    "# Добавляем ответ в словарь"
   ]
  },
  {
   "cell_type": "code",
   "execution_count": 21,
   "metadata": {},
   "outputs": [
    {
     "data": {
      "text/plain": [
       "release_year\n",
       "2015    25449202382\n",
       "Name: revenue, dtype: int64"
      ]
     },
     "execution_count": 21,
     "metadata": {},
     "output_type": "execute_result"
    }
   ],
   "source": [
    "# создаем датафрейм revenue_release_year, группируем в него с помощью функции groupby сумму (sum) сборов (revenue)\n",
    "# по каждому году (release_year), сортируем датафрейм функцией sort_values по убыванию ascending=False\n",
    "revenue_release_year = data.groupby(['release_year'])['revenue'].sum().sort_values(ascending=False)\n",
    "\n",
    "# выводим первую строку датафрейма с ответом\n",
    "revenue_release_year.head(1)"
   ]
  },
  {
   "cell_type": "markdown",
   "metadata": {
    "colab_type": "text",
    "id": "JAzJh4QAVp_z"
   },
   "source": [
    "# 20. Какой самый прибыльный год для студии Warner Bros?"
   ]
  },
  {
   "cell_type": "code",
   "execution_count": 40,
   "metadata": {
    "colab": {},
    "colab_type": "code",
    "id": "wgVu02DEVp_0"
   },
   "outputs": [],
   "source": [
    "# +\n",
    "answers['20'] = '2014'\n",
    "# Добавляем ответ в словарь"
   ]
  },
  {
   "cell_type": "code",
   "execution_count": 39,
   "metadata": {},
   "outputs": [
    {
     "data": {
      "text/plain": [
       "release_year\n",
       "2014    3246549646\n",
       "Name: revenue, dtype: int64"
      ]
     },
     "execution_count": 39,
     "metadata": {},
     "output_type": "execute_result"
    }
   ],
   "source": [
    "# создаем датафрейм data_Warner_Bros и фильтруем в него датафрейм data_companies_1\n",
    "# все строки содержащие (contains) компанию Warner Bros\n",
    "# датафрейм data_companies_1 создан в задаче 18\n",
    "data_Warner_Bros = data_companies_1[data_companies_1['production_companies'].str.contains('Warner Bros')]\n",
    "\n",
    "# создаем датафрейм year_Warner_Bros, группируем в него с помощью функции groupby сумму (sum) сборов (revenue)\n",
    "# по каждому году (release_year), сортируем датафрейм data_Warner_Bros функцией sort_values по убыванию ascending=False\n",
    "revenue_year_Warner_Bros = data_Warner_Bros.groupby(['release_year'])['revenue'].sum().sort_values(ascending=False)\n",
    "\n",
    "# выводим первую строку датафрейма с ответом\n",
    "revenue_year_Warner_Bros.head(1)"
   ]
  },
  {
   "cell_type": "markdown",
   "metadata": {
    "colab_type": "text",
    "id": "8Im1S2HRVp_4"
   },
   "source": [
    "# 21. В каком месяце за все годы суммарно вышло больше всего фильмов?"
   ]
  },
  {
   "cell_type": "code",
   "execution_count": 48,
   "metadata": {
    "colab": {},
    "colab_type": "code",
    "id": "lev6TH7gVp_4"
   },
   "outputs": [],
   "source": [
    "# +\n",
    "answers['21'] = 'Сентябрь'\n",
    "# Добавляем ответ в словарь"
   ]
  },
  {
   "cell_type": "code",
   "execution_count": 75,
   "metadata": {},
   "outputs": [
    {
     "data": {
      "text/plain": [
       "September    227\n",
       "Name: release_date, dtype: int64"
      ]
     },
     "execution_count": 75,
     "metadata": {},
     "output_type": "execute_result"
    }
   ],
   "source": [
    "data_month = data.copy()\n",
    "\n",
    "# Передаем в модуль datetime формат дата в столбце release_date\n",
    "data_month.release_date = data_month.release_date.apply(lambda x: datetime.strptime(x, '%m/%d/%Y'))\n",
    "\n",
    "# Вместо всей даты оставляем только месяцы\n",
    "data_month.release_date = data_month.release_date.apply(lambda x: x.strftime('%B'))\n",
    "\n",
    "# с помощью функции value_counts считаем фильмы по месяцам\n",
    "data_month1 = data_month['release_date'].value_counts()\n",
    "\n",
    "# выводим первую строку с ответом\n",
    "data_month1.head(1)"
   ]
  },
  {
   "cell_type": "markdown",
   "metadata": {
    "colab_type": "text",
    "id": "uAJsZ_NeVp_7"
   },
   "source": [
    "# 22. Сколько суммарно вышло фильмов летом? (за июнь, июль, август)"
   ]
  },
  {
   "cell_type": "code",
   "execution_count": 62,
   "metadata": {
    "scrolled": true
   },
   "outputs": [],
   "source": [
    "# +\n",
    "answers['22'] = '450'\n",
    "# Добавляем ответ в словарь"
   ]
  },
  {
   "cell_type": "code",
   "execution_count": 66,
   "metadata": {
    "colab": {},
    "colab_type": "code",
    "id": "Aa-hEREoVp_8"
   },
   "outputs": [
    {
     "name": "stdout",
     "output_type": "stream",
     "text": [
      "Фильмы летом 450 шт.\n"
     ]
    }
   ],
   "source": [
    "data_month = data.copy()\n",
    "\n",
    "# Передаем в модуль datetime формат дата в столбце release_date\n",
    "data_month.release_date = data_month.release_date.apply(lambda x: datetime.strptime(x, '%m/%d/%Y'))\n",
    "\n",
    "# Вместо всей даты оставляем только месяцы\n",
    "data_month.release_date = data_month.release_date.apply(lambda x: x.strftime('%B'))\n",
    "\n",
    "# с помощью функции value_counts считаем фильмы по месяцам\n",
    "data_month1 = data_month['release_date'].value_counts()\n",
    "\n",
    "summer_is_comming = data_month1['June'] + data_month1['July'] + data_month1['August']\n",
    "summer_is_comming\n",
    "\n",
    "print(f'Фильмы летом {summer_is_comming} шт.')"
   ]
  },
  {
   "cell_type": "markdown",
   "metadata": {
    "colab_type": "text",
    "id": "G94ppOY1VqAA"
   },
   "source": [
    "# 23. Для какого режиссера зима – самое продуктивное время года? "
   ]
  },
  {
   "cell_type": "code",
   "execution_count": 91,
   "metadata": {},
   "outputs": [],
   "source": [
    "# +\n",
    "answers['23'] = 'Steven Soderbergh'\n",
    "# Добавляем ответ в словарь"
   ]
  },
  {
   "cell_type": "code",
   "execution_count": 76,
   "metadata": {
    "colab": {},
    "colab_type": "code",
    "id": "RhNTsamuVqAB"
   },
   "outputs": [
    {
     "data": {
      "text/plain": [
       "Peter Jackson        7\n",
       "Clint Eastwood       6\n",
       "Steven Soderbergh    6\n",
       "Nancy Meyers         4\n",
       "Martin Scorsese      4\n",
       "Name: director, dtype: int64"
      ]
     },
     "execution_count": 76,
     "metadata": {},
     "output_type": "execute_result"
    }
   ],
   "source": [
    "import datetime as dt\n",
    "\n",
    "# создаем копию \n",
    "data_director_winter = data.copy()\n",
    "\n",
    "# разделяем значения столбца director по знаку '|'\n",
    "data_director_winter['director'] = data_director_winter.director.str.split('|')\n",
    "\n",
    "# создаем новый датафрейм, функцией explode создаем копии строк в которых несколько режисеров с одним режисером\n",
    "data_director_winter1 = data_director_winter.explode('director')\n",
    "\n",
    "# преобразуем строку в объект дата-время\n",
    "data_director_winter1.release_date = pd.to_datetime(data.release_date)\n",
    "\n",
    "# фильтруем с помощью isin по зимним месяцам month (1, 2, 12)\n",
    "data_director_winter2 = data_director_winter1[data_director_winter1.release_date.dt.month.isin([1, 2, 12])] \n",
    "\n",
    "# с помощью функции value_counts считаем упоминание каждого режисреа\n",
    "director_winter1 = data_director_winter2['director'].value_counts()\n",
    "\n",
    "# выводим первую строку с ответом\n",
    "director_winter1.head(5)"
   ]
  },
  {
   "cell_type": "markdown",
   "metadata": {
    "colab_type": "text",
    "id": "RBo0JVjVVqAF"
   },
   "source": [
    "# 24. Какая студия дает самые длинные названия своим фильмам по количеству символов?"
   ]
  },
  {
   "cell_type": "code",
   "execution_count": 105,
   "metadata": {
    "colab": {},
    "colab_type": "code",
    "id": "QRGS8L0iVqAG"
   },
   "outputs": [],
   "source": [
    "# +\n",
    "answers['24'] = 'Four By Two Productions'\n",
    "# Добавляем ответ в словарь"
   ]
  },
  {
   "cell_type": "code",
   "execution_count": 33,
   "metadata": {},
   "outputs": [
    {
     "data": {
      "text/plain": [
       "production_companies\n",
       "Four By Two Productions       83.0\n",
       "Jim Henson Company, The       59.0\n",
       "Dos Corazones                 47.0\n",
       "Museum Canada Productions     46.0\n",
       "Polsky Films                  46.0\n",
       "                              ... \n",
       "Everest Entertainment          3.0\n",
       "Berlanti Productions           3.0\n",
       "XM2 Productions                2.0\n",
       "Ixtlan Productions             2.0\n",
       "Global Entertainment Group     2.0\n",
       "Name: len_film_name, Length: 1771, dtype: float64"
      ]
     },
     "execution_count": 33,
     "metadata": {},
     "output_type": "execute_result"
    }
   ],
   "source": [
    "# создаем копию \n",
    "data_len_film_name = data.copy()\n",
    "\n",
    "# код получения столбца len_film_name длинна названия фильма\n",
    "data_len_film_name['len_film_name'] = data_len_film_name['original_title'].str.len()\n",
    "\n",
    "# разделяем значения столбца компании (production_companies) по знаку '|'\n",
    "data_len_film_name['production_companies'] = data_len_film_name.production_companies.str.split('|')\n",
    "\n",
    "# создаем новый датафрейм, функцией explode создаем копии строк в которых несколько компаний с одной компанией\n",
    "data_len_film_name_mean = data_len_film_name.explode('production_companies')\n",
    "\n",
    "# функцией mean считаем среднюю длину названия фильма, сортируем по убыванию sort_values(ascending=False)\n",
    "data_len_film_name_mean.groupby(['production_companies'])['len_film_name'].mean().sort_values(ascending=False)"
   ]
  },
  {
   "cell_type": "markdown",
   "metadata": {
    "colab_type": "text",
    "id": "9G0hbvR7VqAK"
   },
   "source": [
    "# 25. Описание фильмов какой студии в среднем самые длинные по количеству слов?"
   ]
  },
  {
   "cell_type": "code",
   "execution_count": 34,
   "metadata": {
    "colab": {},
    "colab_type": "code",
    "id": "Ge2GsLNxVqAK"
   },
   "outputs": [],
   "source": [
    "# +\n",
    "answers['25'] = 'Midnight Picture Show'\n",
    "# Добавляем ответ в словарь"
   ]
  },
  {
   "cell_type": "code",
   "execution_count": 32,
   "metadata": {},
   "outputs": [
    {
     "data": {
      "text/plain": [
       "production_companies\n",
       "Midnight Picture Show                    175.0\n",
       "Room 9 Entertainment                     161.0\n",
       "Heineken Branded Entertainment           161.0\n",
       "98 MPH Productions                       159.0\n",
       "Brookwell-McNamara Entertainment         156.0\n",
       "                                         ...  \n",
       "London Boulevard                          13.0\n",
       "Phantom Four                              13.0\n",
       "Henceforth                                13.0\n",
       "Empire Pictures                           11.0\n",
       "Motion Picture Corporation of America     11.0\n",
       "Name: word_number, Length: 1771, dtype: float64"
      ]
     },
     "execution_count": 32,
     "metadata": {},
     "output_type": "execute_result"
    }
   ],
   "source": [
    "# создаем копию \n",
    "data_len_words_name = data.copy()\n",
    "\n",
    "# разделяем значения столбца компании (production_companies) по знаку '|'\n",
    "data_len_words_name['production_companies'] = data_len_words_name.production_companies.str.split('|')\n",
    "\n",
    "# создаем новый датафрейм, функцией explode создаем копии строк в которых несколько компаний с одной компанией\n",
    "data_len_words_name1 = data_len_words_name.explode('production_companies')\n",
    "\n",
    "# код получения столбца word разбитого по пробелам списка слов\n",
    "data_len_words_name1['word'] = data_len_words_name1['overview'].str.split(' ')\n",
    "\n",
    "# код получения столбца word_number количество слов описания фильма\n",
    "data_len_words_name1['word_number'] = data_len_words_name1['word'].str.len()\n",
    "\n",
    "# функцией mean считаем среднюю длину по количесву слов описания фильма, \n",
    "# сортируем по убыванию sort_values(ascending=False)\n",
    "data_len_words_name1.groupby(['production_companies'])['word_number'].mean().sort_values(ascending=False)\n"
   ]
  },
  {
   "cell_type": "markdown",
   "metadata": {
    "colab_type": "text",
    "id": "FJ1AFt90VqAP"
   },
   "source": [
    "# 26. Какие фильмы входят в 1 процент лучших по рейтингу? \n",
    "по vote_average"
   ]
  },
  {
   "cell_type": "code",
   "execution_count": 59,
   "metadata": {
    "colab": {},
    "colab_type": "code",
    "id": "8qmJVq4CVqAQ"
   },
   "outputs": [],
   "source": [
    "# +\n",
    "answers['26'] = 'Inside Out, The Dark Knight, 12 Years a Slave'\n",
    "# Добавляем ответ в словарь"
   ]
  },
  {
   "cell_type": "code",
   "execution_count": 56,
   "metadata": {},
   "outputs": [
    {
     "data": {
      "text/html": [
       "<div>\n",
       "<style scoped>\n",
       "    .dataframe tbody tr th:only-of-type {\n",
       "        vertical-align: middle;\n",
       "    }\n",
       "\n",
       "    .dataframe tbody tr th {\n",
       "        vertical-align: top;\n",
       "    }\n",
       "\n",
       "    .dataframe thead th {\n",
       "        text-align: right;\n",
       "    }\n",
       "</style>\n",
       "<table border=\"1\" class=\"dataframe\">\n",
       "  <thead>\n",
       "    <tr style=\"text-align: right;\">\n",
       "      <th></th>\n",
       "      <th>imdb_id</th>\n",
       "      <th>budget</th>\n",
       "      <th>revenue</th>\n",
       "      <th>original_title</th>\n",
       "      <th>cast</th>\n",
       "      <th>director</th>\n",
       "      <th>tagline</th>\n",
       "      <th>overview</th>\n",
       "      <th>runtime</th>\n",
       "      <th>genres</th>\n",
       "      <th>production_companies</th>\n",
       "      <th>release_date</th>\n",
       "      <th>vote_average</th>\n",
       "      <th>release_year</th>\n",
       "      <th>profit</th>\n",
       "    </tr>\n",
       "  </thead>\n",
       "  <tbody>\n",
       "    <tr>\n",
       "      <th>599</th>\n",
       "      <td>tt0468569</td>\n",
       "      <td>185000000</td>\n",
       "      <td>1001921825</td>\n",
       "      <td>The Dark Knight</td>\n",
       "      <td>Christian Bale|Michael Caine|Heath Ledger|Aaro...</td>\n",
       "      <td>Christopher Nolan</td>\n",
       "      <td>Why So Serious?</td>\n",
       "      <td>Batman raises the stakes in his war on crime. ...</td>\n",
       "      <td>152</td>\n",
       "      <td>Drama|Action|Crime|Thriller</td>\n",
       "      <td>DC Comics|Legendary Pictures|Warner Bros.|Syncopy</td>\n",
       "      <td>7/16/2008</td>\n",
       "      <td>8.1</td>\n",
       "      <td>2008</td>\n",
       "      <td>816921825</td>\n",
       "    </tr>\n",
       "    <tr>\n",
       "      <th>118</th>\n",
       "      <td>tt0816692</td>\n",
       "      <td>165000000</td>\n",
       "      <td>621752480</td>\n",
       "      <td>Interstellar</td>\n",
       "      <td>Matthew McConaughey|Jessica Chastain|Anne Hath...</td>\n",
       "      <td>Christopher Nolan</td>\n",
       "      <td>Mankind was born on Earth. It was never meant ...</td>\n",
       "      <td>Interstellar chronicles the adventures of a gr...</td>\n",
       "      <td>169</td>\n",
       "      <td>Adventure|Drama|Science Fiction</td>\n",
       "      <td>Paramount Pictures|Legendary Pictures|Warner B...</td>\n",
       "      <td>11/5/2014</td>\n",
       "      <td>8.0</td>\n",
       "      <td>2014</td>\n",
       "      <td>456752480</td>\n",
       "    </tr>\n",
       "    <tr>\n",
       "      <th>125</th>\n",
       "      <td>tt2084970</td>\n",
       "      <td>14000000</td>\n",
       "      <td>233555708</td>\n",
       "      <td>The Imitation Game</td>\n",
       "      <td>Benedict Cumberbatch|Keira Knightley|Matthew G...</td>\n",
       "      <td>Morten Tyldum</td>\n",
       "      <td>The true enigma was the man who cracked the code.</td>\n",
       "      <td>Based on the real life story of legendary cryp...</td>\n",
       "      <td>113</td>\n",
       "      <td>History|Drama|Thriller|War</td>\n",
       "      <td>Black Bear Pictures|Bristol Automotive</td>\n",
       "      <td>11/14/2014</td>\n",
       "      <td>8.0</td>\n",
       "      <td>2014</td>\n",
       "      <td>219555708</td>\n",
       "    </tr>\n",
       "    <tr>\n",
       "      <th>9</th>\n",
       "      <td>tt2096673</td>\n",
       "      <td>175000000</td>\n",
       "      <td>853708609</td>\n",
       "      <td>Inside Out</td>\n",
       "      <td>Amy Poehler|Phyllis Smith|Richard Kind|Bill Ha...</td>\n",
       "      <td>Pete Docter</td>\n",
       "      <td>Meet the little voices inside your head.</td>\n",
       "      <td>Growing up can be a bumpy road, and it's no ex...</td>\n",
       "      <td>94</td>\n",
       "      <td>Comedy|Animation|Family</td>\n",
       "      <td>Walt Disney Pictures|Pixar Animation Studios|W...</td>\n",
       "      <td>6/9/2015</td>\n",
       "      <td>8.0</td>\n",
       "      <td>2015</td>\n",
       "      <td>678708609</td>\n",
       "    </tr>\n",
       "    <tr>\n",
       "      <th>34</th>\n",
       "      <td>tt3170832</td>\n",
       "      <td>6000000</td>\n",
       "      <td>35401758</td>\n",
       "      <td>Room</td>\n",
       "      <td>Brie Larson|Jacob Tremblay|Joan Allen|Sean Bri...</td>\n",
       "      <td>Lenny Abrahamson</td>\n",
       "      <td>Love knows no boundaries</td>\n",
       "      <td>Jack is a young boy of 5 years old who has liv...</td>\n",
       "      <td>117</td>\n",
       "      <td>Drama|Thriller</td>\n",
       "      <td>Element Pictures|No Trace Camping|A24|Duperele...</td>\n",
       "      <td>10/16/2015</td>\n",
       "      <td>8.0</td>\n",
       "      <td>2015</td>\n",
       "      <td>29401758</td>\n",
       "    </tr>\n",
       "    <tr>\n",
       "      <th>1183</th>\n",
       "      <td>tt0993846</td>\n",
       "      <td>100000000</td>\n",
       "      <td>392000694</td>\n",
       "      <td>The Wolf of Wall Street</td>\n",
       "      <td>Leonardo DiCaprio|Jonah Hill|Margot Robbie|Kyl...</td>\n",
       "      <td>Martin Scorsese</td>\n",
       "      <td>EARN. SPEND. PARTY.</td>\n",
       "      <td>A New York stockbroker refuses to cooperate in...</td>\n",
       "      <td>180</td>\n",
       "      <td>Crime|Drama|Comedy</td>\n",
       "      <td>Paramount Pictures|Appian Way|EMJAG Production...</td>\n",
       "      <td>12/25/2013</td>\n",
       "      <td>7.9</td>\n",
       "      <td>2013</td>\n",
       "      <td>292000694</td>\n",
       "    </tr>\n",
       "    <tr>\n",
       "      <th>128</th>\n",
       "      <td>tt2267998</td>\n",
       "      <td>61000000</td>\n",
       "      <td>369330363</td>\n",
       "      <td>Gone Girl</td>\n",
       "      <td>Ben Affleck|Rosamund Pike|Carrie Coon|Neil Pat...</td>\n",
       "      <td>David Fincher</td>\n",
       "      <td>You don't know what you've got 'til it's...</td>\n",
       "      <td>With his wife's disappearance having become th...</td>\n",
       "      <td>145</td>\n",
       "      <td>Mystery|Thriller|Drama</td>\n",
       "      <td>Twentieth Century Fox Film Corporation|Regency...</td>\n",
       "      <td>10/1/2014</td>\n",
       "      <td>7.9</td>\n",
       "      <td>2014</td>\n",
       "      <td>308330363</td>\n",
       "    </tr>\n",
       "    <tr>\n",
       "      <th>1191</th>\n",
       "      <td>tt2024544</td>\n",
       "      <td>20000000</td>\n",
       "      <td>187000000</td>\n",
       "      <td>12 Years a Slave</td>\n",
       "      <td>Chiwetel Ejiofor|Michael Fassbender|Lupita Nyo...</td>\n",
       "      <td>Steve McQueen</td>\n",
       "      <td>The extraordinary true story of Solomon Northup</td>\n",
       "      <td>In the pre-Civil War United States, Solomon No...</td>\n",
       "      <td>134</td>\n",
       "      <td>Drama|History</td>\n",
       "      <td>Plan B Entertainment|Regency Enterprises|River...</td>\n",
       "      <td>10/18/2013</td>\n",
       "      <td>7.9</td>\n",
       "      <td>2013</td>\n",
       "      <td>167000000</td>\n",
       "    </tr>\n",
       "    <tr>\n",
       "      <th>119</th>\n",
       "      <td>tt2015381</td>\n",
       "      <td>170000000</td>\n",
       "      <td>773312399</td>\n",
       "      <td>Guardians of the Galaxy</td>\n",
       "      <td>Chris Pratt|Zoe Saldana|Dave Bautista|Vin Dies...</td>\n",
       "      <td>James Gunn</td>\n",
       "      <td>All heroes start somewhere.</td>\n",
       "      <td>Light years from Earth, 26 years after being a...</td>\n",
       "      <td>121</td>\n",
       "      <td>Action|Science Fiction|Adventure</td>\n",
       "      <td>Marvel Studios|Moving Picture Company (MPC)|Bu...</td>\n",
       "      <td>7/30/2014</td>\n",
       "      <td>7.9</td>\n",
       "      <td>2014</td>\n",
       "      <td>603312399</td>\n",
       "    </tr>\n",
       "    <tr>\n",
       "      <th>1081</th>\n",
       "      <td>tt0167260</td>\n",
       "      <td>94000000</td>\n",
       "      <td>1118888979</td>\n",
       "      <td>The Lord of the Rings: The Return of the King</td>\n",
       "      <td>Elijah Wood|Ian McKellen|Viggo Mortensen|Liv T...</td>\n",
       "      <td>Peter Jackson</td>\n",
       "      <td>The eye of the enemy is moving.</td>\n",
       "      <td>Aragorn is revealed as the heir to the ancient...</td>\n",
       "      <td>201</td>\n",
       "      <td>Adventure|Fantasy|Action</td>\n",
       "      <td>WingNut Films|New Line Cinema</td>\n",
       "      <td>12/1/2003</td>\n",
       "      <td>7.9</td>\n",
       "      <td>2003</td>\n",
       "      <td>1024888979</td>\n",
       "    </tr>\n",
       "    <tr>\n",
       "      <th>1800</th>\n",
       "      <td>tt0209144</td>\n",
       "      <td>9000000</td>\n",
       "      <td>39723096</td>\n",
       "      <td>Memento</td>\n",
       "      <td>Guy Pearce|Carrie-Anne Moss|Joe Pantoliano|Mar...</td>\n",
       "      <td>Christopher Nolan</td>\n",
       "      <td>Some memories are best forgotten.</td>\n",
       "      <td>Suffering short-term memory loss after a head ...</td>\n",
       "      <td>113</td>\n",
       "      <td>Mystery|Thriller</td>\n",
       "      <td>Summit Entertainment|Newmarket Capital Group|T...</td>\n",
       "      <td>10/11/2000</td>\n",
       "      <td>7.9</td>\n",
       "      <td>2000</td>\n",
       "      <td>30723096</td>\n",
       "    </tr>\n",
       "    <tr>\n",
       "      <th>370</th>\n",
       "      <td>tt1375666</td>\n",
       "      <td>160000000</td>\n",
       "      <td>825500000</td>\n",
       "      <td>Inception</td>\n",
       "      <td>Leonardo DiCaprio|Joseph Gordon-Levitt|Ellen P...</td>\n",
       "      <td>Christopher Nolan</td>\n",
       "      <td>Your mind is the scene of the crime.</td>\n",
       "      <td>Cobb, a skilled thief who commits corporate es...</td>\n",
       "      <td>148</td>\n",
       "      <td>Action|Thriller|Science Fiction|Mystery|Adventure</td>\n",
       "      <td>Legendary Pictures|Warner Bros.|Syncopy</td>\n",
       "      <td>7/14/2010</td>\n",
       "      <td>7.9</td>\n",
       "      <td>2010</td>\n",
       "      <td>665500000</td>\n",
       "    </tr>\n",
       "    <tr>\n",
       "      <th>872</th>\n",
       "      <td>tt0253474</td>\n",
       "      <td>35000000</td>\n",
       "      <td>120072577</td>\n",
       "      <td>The Pianist</td>\n",
       "      <td>Adrien Brody|Thomas Kretschmann|Frank Finlay|M...</td>\n",
       "      <td>Roman Polanski</td>\n",
       "      <td>Music was his passion. Survival was his master...</td>\n",
       "      <td>The Pianist is a film adapted from the biograp...</td>\n",
       "      <td>150</td>\n",
       "      <td>Drama|War</td>\n",
       "      <td>Bac Films|Canal+Polska|Heritage Films|Studio B...</td>\n",
       "      <td>9/24/2002</td>\n",
       "      <td>7.9</td>\n",
       "      <td>2002</td>\n",
       "      <td>85072577</td>\n",
       "    </tr>\n",
       "    <tr>\n",
       "      <th>138</th>\n",
       "      <td>tt2278388</td>\n",
       "      <td>30000000</td>\n",
       "      <td>174600318</td>\n",
       "      <td>The Grand Budapest Hotel</td>\n",
       "      <td>Ralph Fiennes|Tony Revolori|F. Murray Abraham|...</td>\n",
       "      <td>Wes Anderson</td>\n",
       "      <td>A perfect holiday without leaving home.</td>\n",
       "      <td>The Grand Budapest Hotel tells of a legendary ...</td>\n",
       "      <td>99</td>\n",
       "      <td>Comedy|Drama</td>\n",
       "      <td>Fox Searchlight Pictures|Scott Rudin Productio...</td>\n",
       "      <td>2/26/2014</td>\n",
       "      <td>7.9</td>\n",
       "      <td>2014</td>\n",
       "      <td>144600318</td>\n",
       "    </tr>\n",
       "    <tr>\n",
       "      <th>1188</th>\n",
       "      <td>tt1798709</td>\n",
       "      <td>23000000</td>\n",
       "      <td>47351251</td>\n",
       "      <td>Her</td>\n",
       "      <td>Joaquin Phoenix|Scarlett Johansson|Rooney Mara...</td>\n",
       "      <td>Spike Jonze</td>\n",
       "      <td>A Spike Jonze Love Story</td>\n",
       "      <td>In the not so distant future, Theodore, a lone...</td>\n",
       "      <td>126</td>\n",
       "      <td>Romance|Science Fiction|Drama</td>\n",
       "      <td>Annapurna Pictures</td>\n",
       "      <td>12/18/2013</td>\n",
       "      <td>7.8</td>\n",
       "      <td>2013</td>\n",
       "      <td>24351251</td>\n",
       "    </tr>\n",
       "    <tr>\n",
       "      <th>28</th>\n",
       "      <td>tt1895587</td>\n",
       "      <td>20000000</td>\n",
       "      <td>88346473</td>\n",
       "      <td>Spotlight</td>\n",
       "      <td>Mark Ruffalo|Michael Keaton|Rachel McAdams|Lie...</td>\n",
       "      <td>Tom McCarthy</td>\n",
       "      <td>Break the story. Break the silence.</td>\n",
       "      <td>The true story of how The Boston Globe uncover...</td>\n",
       "      <td>128</td>\n",
       "      <td>Drama|Thriller|History</td>\n",
       "      <td>Participant Media|Open Road Films|Anonymous Co...</td>\n",
       "      <td>11/6/2015</td>\n",
       "      <td>7.8</td>\n",
       "      <td>2015</td>\n",
       "      <td>68346473</td>\n",
       "    </tr>\n",
       "    <tr>\n",
       "      <th>124</th>\n",
       "      <td>tt2245084</td>\n",
       "      <td>165000000</td>\n",
       "      <td>652105443</td>\n",
       "      <td>Big Hero 6</td>\n",
       "      <td>Scott Adsit|Ryan Potter|Daniel Henney|T.J. Mil...</td>\n",
       "      <td>Don Hall|Chris Williams</td>\n",
       "      <td>From the creators of Wreck-it Ralph and Frozen</td>\n",
       "      <td>The special bond that develops between plus-si...</td>\n",
       "      <td>102</td>\n",
       "      <td>Adventure|Family|Animation|Action|Comedy</td>\n",
       "      <td>Walt Disney Pictures|Walt Disney Animation Stu...</td>\n",
       "      <td>10/24/2014</td>\n",
       "      <td>7.8</td>\n",
       "      <td>2014</td>\n",
       "      <td>487105443</td>\n",
       "    </tr>\n",
       "    <tr>\n",
       "      <th>177</th>\n",
       "      <td>tt2582846</td>\n",
       "      <td>12000000</td>\n",
       "      <td>305151265</td>\n",
       "      <td>The Fault in Our Stars</td>\n",
       "      <td>Shailene Woodley|Ansel Elgort|Nat Wolff|Laura ...</td>\n",
       "      <td>Josh Boone</td>\n",
       "      <td>One Sick Love Story</td>\n",
       "      <td>Despite the tumor-shrinking medical miracle th...</td>\n",
       "      <td>125</td>\n",
       "      <td>Romance|Drama</td>\n",
       "      <td>Fox 2000 Pictures|Temple Hill Entertainment|TS...</td>\n",
       "      <td>5/16/2014</td>\n",
       "      <td>7.8</td>\n",
       "      <td>2014</td>\n",
       "      <td>293151265</td>\n",
       "    </tr>\n",
       "  </tbody>\n",
       "</table>\n",
       "</div>"
      ],
      "text/plain": [
       "        imdb_id     budget     revenue  \\\n",
       "599   tt0468569  185000000  1001921825   \n",
       "118   tt0816692  165000000   621752480   \n",
       "125   tt2084970   14000000   233555708   \n",
       "9     tt2096673  175000000   853708609   \n",
       "34    tt3170832    6000000    35401758   \n",
       "1183  tt0993846  100000000   392000694   \n",
       "128   tt2267998   61000000   369330363   \n",
       "1191  tt2024544   20000000   187000000   \n",
       "119   tt2015381  170000000   773312399   \n",
       "1081  tt0167260   94000000  1118888979   \n",
       "1800  tt0209144    9000000    39723096   \n",
       "370   tt1375666  160000000   825500000   \n",
       "872   tt0253474   35000000   120072577   \n",
       "138   tt2278388   30000000   174600318   \n",
       "1188  tt1798709   23000000    47351251   \n",
       "28    tt1895587   20000000    88346473   \n",
       "124   tt2245084  165000000   652105443   \n",
       "177   tt2582846   12000000   305151265   \n",
       "\n",
       "                                     original_title  \\\n",
       "599                                 The Dark Knight   \n",
       "118                                    Interstellar   \n",
       "125                              The Imitation Game   \n",
       "9                                        Inside Out   \n",
       "34                                             Room   \n",
       "1183                        The Wolf of Wall Street   \n",
       "128                                       Gone Girl   \n",
       "1191                               12 Years a Slave   \n",
       "119                         Guardians of the Galaxy   \n",
       "1081  The Lord of the Rings: The Return of the King   \n",
       "1800                                        Memento   \n",
       "370                                       Inception   \n",
       "872                                     The Pianist   \n",
       "138                        The Grand Budapest Hotel   \n",
       "1188                                            Her   \n",
       "28                                        Spotlight   \n",
       "124                                      Big Hero 6   \n",
       "177                          The Fault in Our Stars   \n",
       "\n",
       "                                                   cast  \\\n",
       "599   Christian Bale|Michael Caine|Heath Ledger|Aaro...   \n",
       "118   Matthew McConaughey|Jessica Chastain|Anne Hath...   \n",
       "125   Benedict Cumberbatch|Keira Knightley|Matthew G...   \n",
       "9     Amy Poehler|Phyllis Smith|Richard Kind|Bill Ha...   \n",
       "34    Brie Larson|Jacob Tremblay|Joan Allen|Sean Bri...   \n",
       "1183  Leonardo DiCaprio|Jonah Hill|Margot Robbie|Kyl...   \n",
       "128   Ben Affleck|Rosamund Pike|Carrie Coon|Neil Pat...   \n",
       "1191  Chiwetel Ejiofor|Michael Fassbender|Lupita Nyo...   \n",
       "119   Chris Pratt|Zoe Saldana|Dave Bautista|Vin Dies...   \n",
       "1081  Elijah Wood|Ian McKellen|Viggo Mortensen|Liv T...   \n",
       "1800  Guy Pearce|Carrie-Anne Moss|Joe Pantoliano|Mar...   \n",
       "370   Leonardo DiCaprio|Joseph Gordon-Levitt|Ellen P...   \n",
       "872   Adrien Brody|Thomas Kretschmann|Frank Finlay|M...   \n",
       "138   Ralph Fiennes|Tony Revolori|F. Murray Abraham|...   \n",
       "1188  Joaquin Phoenix|Scarlett Johansson|Rooney Mara...   \n",
       "28    Mark Ruffalo|Michael Keaton|Rachel McAdams|Lie...   \n",
       "124   Scott Adsit|Ryan Potter|Daniel Henney|T.J. Mil...   \n",
       "177   Shailene Woodley|Ansel Elgort|Nat Wolff|Laura ...   \n",
       "\n",
       "                     director  \\\n",
       "599         Christopher Nolan   \n",
       "118         Christopher Nolan   \n",
       "125             Morten Tyldum   \n",
       "9                 Pete Docter   \n",
       "34           Lenny Abrahamson   \n",
       "1183          Martin Scorsese   \n",
       "128             David Fincher   \n",
       "1191            Steve McQueen   \n",
       "119                James Gunn   \n",
       "1081            Peter Jackson   \n",
       "1800        Christopher Nolan   \n",
       "370         Christopher Nolan   \n",
       "872            Roman Polanski   \n",
       "138              Wes Anderson   \n",
       "1188              Spike Jonze   \n",
       "28               Tom McCarthy   \n",
       "124   Don Hall|Chris Williams   \n",
       "177                Josh Boone   \n",
       "\n",
       "                                                tagline  \\\n",
       "599                                     Why So Serious?   \n",
       "118   Mankind was born on Earth. It was never meant ...   \n",
       "125   The true enigma was the man who cracked the code.   \n",
       "9              Meet the little voices inside your head.   \n",
       "34                             Love knows no boundaries   \n",
       "1183                                EARN. SPEND. PARTY.   \n",
       "128         You don't know what you've got 'til it's...   \n",
       "1191    The extraordinary true story of Solomon Northup   \n",
       "119                         All heroes start somewhere.   \n",
       "1081                    The eye of the enemy is moving.   \n",
       "1800                  Some memories are best forgotten.   \n",
       "370                Your mind is the scene of the crime.   \n",
       "872   Music was his passion. Survival was his master...   \n",
       "138             A perfect holiday without leaving home.   \n",
       "1188                           A Spike Jonze Love Story   \n",
       "28                  Break the story. Break the silence.   \n",
       "124      From the creators of Wreck-it Ralph and Frozen   \n",
       "177                                 One Sick Love Story   \n",
       "\n",
       "                                               overview  runtime  \\\n",
       "599   Batman raises the stakes in his war on crime. ...      152   \n",
       "118   Interstellar chronicles the adventures of a gr...      169   \n",
       "125   Based on the real life story of legendary cryp...      113   \n",
       "9     Growing up can be a bumpy road, and it's no ex...       94   \n",
       "34    Jack is a young boy of 5 years old who has liv...      117   \n",
       "1183  A New York stockbroker refuses to cooperate in...      180   \n",
       "128   With his wife's disappearance having become th...      145   \n",
       "1191  In the pre-Civil War United States, Solomon No...      134   \n",
       "119   Light years from Earth, 26 years after being a...      121   \n",
       "1081  Aragorn is revealed as the heir to the ancient...      201   \n",
       "1800  Suffering short-term memory loss after a head ...      113   \n",
       "370   Cobb, a skilled thief who commits corporate es...      148   \n",
       "872   The Pianist is a film adapted from the biograp...      150   \n",
       "138   The Grand Budapest Hotel tells of a legendary ...       99   \n",
       "1188  In the not so distant future, Theodore, a lone...      126   \n",
       "28    The true story of how The Boston Globe uncover...      128   \n",
       "124   The special bond that develops between plus-si...      102   \n",
       "177   Despite the tumor-shrinking medical miracle th...      125   \n",
       "\n",
       "                                                 genres  \\\n",
       "599                         Drama|Action|Crime|Thriller   \n",
       "118                     Adventure|Drama|Science Fiction   \n",
       "125                          History|Drama|Thriller|War   \n",
       "9                               Comedy|Animation|Family   \n",
       "34                                       Drama|Thriller   \n",
       "1183                                 Crime|Drama|Comedy   \n",
       "128                              Mystery|Thriller|Drama   \n",
       "1191                                      Drama|History   \n",
       "119                    Action|Science Fiction|Adventure   \n",
       "1081                           Adventure|Fantasy|Action   \n",
       "1800                                   Mystery|Thriller   \n",
       "370   Action|Thriller|Science Fiction|Mystery|Adventure   \n",
       "872                                           Drama|War   \n",
       "138                                        Comedy|Drama   \n",
       "1188                      Romance|Science Fiction|Drama   \n",
       "28                               Drama|Thriller|History   \n",
       "124            Adventure|Family|Animation|Action|Comedy   \n",
       "177                                       Romance|Drama   \n",
       "\n",
       "                                   production_companies release_date  \\\n",
       "599   DC Comics|Legendary Pictures|Warner Bros.|Syncopy    7/16/2008   \n",
       "118   Paramount Pictures|Legendary Pictures|Warner B...    11/5/2014   \n",
       "125              Black Bear Pictures|Bristol Automotive   11/14/2014   \n",
       "9     Walt Disney Pictures|Pixar Animation Studios|W...     6/9/2015   \n",
       "34    Element Pictures|No Trace Camping|A24|Duperele...   10/16/2015   \n",
       "1183  Paramount Pictures|Appian Way|EMJAG Production...   12/25/2013   \n",
       "128   Twentieth Century Fox Film Corporation|Regency...    10/1/2014   \n",
       "1191  Plan B Entertainment|Regency Enterprises|River...   10/18/2013   \n",
       "119   Marvel Studios|Moving Picture Company (MPC)|Bu...    7/30/2014   \n",
       "1081                      WingNut Films|New Line Cinema    12/1/2003   \n",
       "1800  Summit Entertainment|Newmarket Capital Group|T...   10/11/2000   \n",
       "370             Legendary Pictures|Warner Bros.|Syncopy    7/14/2010   \n",
       "872   Bac Films|Canal+Polska|Heritage Films|Studio B...    9/24/2002   \n",
       "138   Fox Searchlight Pictures|Scott Rudin Productio...    2/26/2014   \n",
       "1188                                 Annapurna Pictures   12/18/2013   \n",
       "28    Participant Media|Open Road Films|Anonymous Co...    11/6/2015   \n",
       "124   Walt Disney Pictures|Walt Disney Animation Stu...   10/24/2014   \n",
       "177   Fox 2000 Pictures|Temple Hill Entertainment|TS...    5/16/2014   \n",
       "\n",
       "      vote_average  release_year      profit  \n",
       "599            8.1          2008   816921825  \n",
       "118            8.0          2014   456752480  \n",
       "125            8.0          2014   219555708  \n",
       "9              8.0          2015   678708609  \n",
       "34             8.0          2015    29401758  \n",
       "1183           7.9          2013   292000694  \n",
       "128            7.9          2014   308330363  \n",
       "1191           7.9          2013   167000000  \n",
       "119            7.9          2014   603312399  \n",
       "1081           7.9          2003  1024888979  \n",
       "1800           7.9          2000    30723096  \n",
       "370            7.9          2010   665500000  \n",
       "872            7.9          2002    85072577  \n",
       "138            7.9          2014   144600318  \n",
       "1188           7.8          2013    24351251  \n",
       "28             7.8          2015    68346473  \n",
       "124            7.8          2014   487105443  \n",
       "177            7.8          2014   293151265  "
      ]
     },
     "execution_count": 56,
     "metadata": {},
     "output_type": "execute_result"
    }
   ],
   "source": [
    "# создаем копию \n",
    "data_1_best = data.copy()\n",
    "\n",
    "# находим колличество строк-фильмов в датафрейм и считаем сколько фильмов в 1%\n",
    "len_data = len(data.index)\n",
    "len_data_1 = int(len_data/100)\n",
    "\n",
    "# фильтруем датафрейм по рейтингу\n",
    "# и выводим 1 процент отфильтрованного списка (len_data_1)\n",
    "data_1_best.sort_values(by =['vote_average'], ascending=False).head(len_data_1)"
   ]
  },
  {
   "cell_type": "markdown",
   "metadata": {
    "colab_type": "text",
    "id": "MdXsUXbCVqAV"
   },
   "source": [
    "# 27. Какие актеры чаще всего снимаются в одном фильме вместе?\n"
   ]
  },
  {
   "cell_type": "code",
   "execution_count": 68,
   "metadata": {},
   "outputs": [],
   "source": [
    "# +\n",
    "answers['27'] = 'Daniel Radcliffe & Rupert Grint'\n",
    "# Добавляем ответ в словарь"
   ]
  },
  {
   "cell_type": "code",
   "execution_count": null,
   "metadata": {},
   "outputs": [],
   "source": [
    "ВАРИАНТ 1"
   ]
  },
  {
   "cell_type": "code",
   "execution_count": 67,
   "metadata": {},
   "outputs": [
    {
     "data": {
      "text/plain": [
       "('Daniel Radcliffe', 'Rupert Grint')"
      ]
     },
     "execution_count": 67,
     "metadata": {},
     "output_type": "execute_result"
    }
   ],
   "source": [
    "# создаем копию \n",
    "data_cast_together = data.copy()\n",
    "\n",
    "from itertools import combinations\n",
    "\n",
    "combs = [] \n",
    "for cast in data_cast_together.cast.str.split('|'):\n",
    "    combs.extend(combinations(cast, 2))\n",
    "pd.Series(combs).value_counts().index[0]\n",
    "pd.Series(combs).value_counts().index[1]"
   ]
  },
  {
   "cell_type": "markdown",
   "metadata": {
    "colab_type": "text",
    "id": "4ymnxEVoVqAW"
   },
   "source": [
    "ВАРИАНТ 2"
   ]
  },
  {
   "cell_type": "code",
   "execution_count": 64,
   "metadata": {},
   "outputs": [
    {
     "data": {
      "text/plain": [
       "[(('Daniel Radcliffe', 'Rupert Grint'), 8),\n",
       " (('Daniel Radcliffe', 'Emma Watson'), 8),\n",
       " (('Rupert Grint', 'Emma Watson'), 7),\n",
       " (('Ben Stiller', 'Owen Wilson'), 6),\n",
       " (('Johnny Depp', 'Helena Bonham Carter'), 6)]"
      ]
     },
     "execution_count": 64,
     "metadata": {},
     "output_type": "execute_result"
    }
   ],
   "source": [
    "from itertools import combinations\n",
    "\n",
    "# создаем копию \n",
    "data_cast_together = data.copy()\n",
    "\n",
    "cast_together = Counter()\n",
    "for i in range(0,len(data_cast_together)):\n",
    "    artist = data_cast_together.cast[i].split('|')\n",
    "    for j in list(combinations(artist,2)):\n",
    "        if j not in cast_together:\n",
    "            cast_together[j] = 1\n",
    "        else:\n",
    "            cast_together[j] += 1\n",
    "cast_together.most_common(5)\n"
   ]
  },
  {
   "cell_type": "markdown",
   "metadata": {
    "colab_type": "text",
    "id": "U0nONFnGVqAX"
   },
   "source": [
    "# Submission"
   ]
  },
  {
   "cell_type": "code",
   "execution_count": 60,
   "metadata": {
    "colab": {},
    "colab_type": "code",
    "id": "IfcaRO9-VqAX",
    "outputId": "0f132912-32bb-4196-c98c-abfbc4ad5a5f"
   },
   "outputs": [
    {
     "data": {
      "text/plain": [
       "{'25': 'Midnight Picture Show',\n",
       " '26': 'Inside Out, The Dark Knight, 12 Years a Slave'}"
      ]
     },
     "execution_count": 60,
     "metadata": {},
     "output_type": "execute_result"
    }
   ],
   "source": [
    "# в конце можно посмотреть свои ответы к каждому вопросу\n",
    "answers"
   ]
  },
  {
   "cell_type": "code",
   "execution_count": 0,
   "metadata": {
    "colab": {},
    "colab_type": "code",
    "id": "SiRmHPl8VqAd"
   },
   "outputs": [],
   "source": [
    "# и убедиться что ни чего не пропустил)\n",
    "len(answers)"
   ]
  },
  {
   "cell_type": "code",
   "execution_count": 0,
   "metadata": {
    "colab": {},
    "colab_type": "code",
    "id": "uCfuTkRbVqAg"
   },
   "outputs": [],
   "source": []
  },
  {
   "cell_type": "code",
   "execution_count": 0,
   "metadata": {
    "colab": {},
    "colab_type": "code",
    "id": "Vwx3NrkSVqAl"
   },
   "outputs": [],
   "source": []
  }
 ],
 "metadata": {
  "colab": {
   "name": "Copy of [SF-DST] Movies IMBD v4.1 TEMPLATE.ipynb",
   "provenance": []
  },
  "kernelspec": {
   "display_name": "Python 3",
   "language": "python",
   "name": "python3"
  },
  "language_info": {
   "codemirror_mode": {
    "name": "ipython",
    "version": 3
   },
   "file_extension": ".py",
   "mimetype": "text/x-python",
   "name": "python",
   "nbconvert_exporter": "python",
   "pygments_lexer": "ipython3",
   "version": "3.8.3"
  }
 },
 "nbformat": 4,
 "nbformat_minor": 1
}
