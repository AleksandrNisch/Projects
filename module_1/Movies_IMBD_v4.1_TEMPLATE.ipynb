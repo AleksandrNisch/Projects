{
 "cells": [
  {
   "cell_type": "code",
   "execution_count": 1,
   "metadata": {
    "_cell_guid": "b1076dfc-b9ad-4769-8c92-a6c4dae69d19",
    "_uuid": "8f2839f25d086af736a60e9eeb907d3b93b6e0e5",
    "colab": {},
    "colab_type": "code",
    "id": "U2D2gTdJVp90"
   },
   "outputs": [],
   "source": [
    "import numpy as np\n",
    "import pandas as pd\n",
    "import seaborn as sns\n",
    "import matplotlib.pyplot as plt\n",
    "from collections import Counter"
   ]
  },
  {
   "cell_type": "code",
   "execution_count": 44,
   "metadata": {
    "_cell_guid": "79c7e3d0-c299-4dcb-8224-4455121ee9b0",
    "_uuid": "d629ff2d2480ee46fbb7e2d37f6b5fab8052498a",
    "colab": {},
    "colab_type": "code",
    "id": "oyGfxL3eVp9-"
   },
   "outputs": [
    {
     "data": {
      "text/html": [
       "<div>\n",
       "<style scoped>\n",
       "    .dataframe tbody tr th:only-of-type {\n",
       "        vertical-align: middle;\n",
       "    }\n",
       "\n",
       "    .dataframe tbody tr th {\n",
       "        vertical-align: top;\n",
       "    }\n",
       "\n",
       "    .dataframe thead th {\n",
       "        text-align: right;\n",
       "    }\n",
       "</style>\n",
       "<table border=\"1\" class=\"dataframe\">\n",
       "  <thead>\n",
       "    <tr style=\"text-align: right;\">\n",
       "      <th></th>\n",
       "      <th>imdb_id</th>\n",
       "      <th>budget</th>\n",
       "      <th>revenue</th>\n",
       "      <th>original_title</th>\n",
       "      <th>cast</th>\n",
       "      <th>director</th>\n",
       "      <th>tagline</th>\n",
       "      <th>overview</th>\n",
       "      <th>runtime</th>\n",
       "      <th>genres</th>\n",
       "      <th>production_companies</th>\n",
       "      <th>release_date</th>\n",
       "      <th>vote_average</th>\n",
       "      <th>release_year</th>\n",
       "    </tr>\n",
       "  </thead>\n",
       "  <tbody>\n",
       "    <tr>\n",
       "      <th>473</th>\n",
       "      <td>tt0872230</td>\n",
       "      <td>25000000</td>\n",
       "      <td>19829957</td>\n",
       "      <td>My Soul to Take</td>\n",
       "      <td>Max Thieriot|John Magaro|Denzel Whitaker|Zena ...</td>\n",
       "      <td>Wes Craven</td>\n",
       "      <td>Only One Has The Power To Save Their Souls</td>\n",
       "      <td>A serial killer returns to his hometown to sta...</td>\n",
       "      <td>107</td>\n",
       "      <td>Drama|Horror|Mystery|Thriller</td>\n",
       "      <td>Relativity Media|Rogue</td>\n",
       "      <td>10/8/2010</td>\n",
       "      <td>5.2</td>\n",
       "      <td>2010</td>\n",
       "    </tr>\n",
       "    <tr>\n",
       "      <th>1646</th>\n",
       "      <td>tt0362270</td>\n",
       "      <td>50000000</td>\n",
       "      <td>34808403</td>\n",
       "      <td>The Life Aquatic with Steve Zissou</td>\n",
       "      <td>Bill Murray|Anjelica Huston|Cate Blanchett|Wil...</td>\n",
       "      <td>Wes Anderson</td>\n",
       "      <td>The deeper you go, the weirder life gets.</td>\n",
       "      <td>Wes Andersonâ€™s incisive quirky comedy build ...</td>\n",
       "      <td>119</td>\n",
       "      <td>Adventure|Comedy|Drama</td>\n",
       "      <td>Touchstone Pictures</td>\n",
       "      <td>12/10/2004</td>\n",
       "      <td>7.0</td>\n",
       "      <td>2004</td>\n",
       "    </tr>\n",
       "    <tr>\n",
       "      <th>1762</th>\n",
       "      <td>tt0489237</td>\n",
       "      <td>20000000</td>\n",
       "      <td>47738099</td>\n",
       "      <td>The Nanny Diaries</td>\n",
       "      <td>Scarlett Johansson|Laura Linney|Chris Evans|Pa...</td>\n",
       "      <td>Shari Springer Berman|Robert Pulcini</td>\n",
       "      <td>A comedy about life at the top, as seen from t...</td>\n",
       "      <td>A college graduate goes to work as a nanny for...</td>\n",
       "      <td>106</td>\n",
       "      <td>Comedy|Drama|Romance</td>\n",
       "      <td>The Weinstein Company|FilmColony</td>\n",
       "      <td>8/24/2007</td>\n",
       "      <td>6.0</td>\n",
       "      <td>2007</td>\n",
       "    </tr>\n",
       "    <tr>\n",
       "      <th>673</th>\n",
       "      <td>tt0800241</td>\n",
       "      <td>15000000</td>\n",
       "      <td>5926410</td>\n",
       "      <td>Transsiberian</td>\n",
       "      <td>Woody Harrelson|Emily Mortimer|Kate Mara|Eduar...</td>\n",
       "      <td>Brad Anderson</td>\n",
       "      <td>You can't escape your lies.</td>\n",
       "      <td>A Trans-Siberian train journey from China to M...</td>\n",
       "      <td>111</td>\n",
       "      <td>Thriller|Crime|Mystery</td>\n",
       "      <td>Lietuvos Kinostudija|Scout Productions|Telecin...</td>\n",
       "      <td>1/18/2008</td>\n",
       "      <td>6.3</td>\n",
       "      <td>2008</td>\n",
       "    </tr>\n",
       "    <tr>\n",
       "      <th>589</th>\n",
       "      <td>tt0273799</td>\n",
       "      <td>12000000</td>\n",
       "      <td>17292381</td>\n",
       "      <td>Max Keeble's Big Move</td>\n",
       "      <td>Alex D. Linz|Zena Grey|Nora Dunn|Larry Miller|...</td>\n",
       "      <td>Tim Hill</td>\n",
       "      <td>His World. His Rules.</td>\n",
       "      <td>Max Keeble, the victim of his 7th grade class,...</td>\n",
       "      <td>86</td>\n",
       "      <td>Comedy|Family|Fantasy|Science Fiction</td>\n",
       "      <td>Walt Disney Pictures|Karz Entertainment</td>\n",
       "      <td>10/5/2001</td>\n",
       "      <td>5.3</td>\n",
       "      <td>2001</td>\n",
       "    </tr>\n",
       "  </tbody>\n",
       "</table>\n",
       "</div>"
      ],
      "text/plain": [
       "        imdb_id    budget   revenue                      original_title  \\\n",
       "473   tt0872230  25000000  19829957                     My Soul to Take   \n",
       "1646  tt0362270  50000000  34808403  The Life Aquatic with Steve Zissou   \n",
       "1762  tt0489237  20000000  47738099                   The Nanny Diaries   \n",
       "673   tt0800241  15000000   5926410                       Transsiberian   \n",
       "589   tt0273799  12000000  17292381               Max Keeble's Big Move   \n",
       "\n",
       "                                                   cast  \\\n",
       "473   Max Thieriot|John Magaro|Denzel Whitaker|Zena ...   \n",
       "1646  Bill Murray|Anjelica Huston|Cate Blanchett|Wil...   \n",
       "1762  Scarlett Johansson|Laura Linney|Chris Evans|Pa...   \n",
       "673   Woody Harrelson|Emily Mortimer|Kate Mara|Eduar...   \n",
       "589   Alex D. Linz|Zena Grey|Nora Dunn|Larry Miller|...   \n",
       "\n",
       "                                  director  \\\n",
       "473                             Wes Craven   \n",
       "1646                          Wes Anderson   \n",
       "1762  Shari Springer Berman|Robert Pulcini   \n",
       "673                          Brad Anderson   \n",
       "589                               Tim Hill   \n",
       "\n",
       "                                                tagline  \\\n",
       "473          Only One Has The Power To Save Their Souls   \n",
       "1646          The deeper you go, the weirder life gets.   \n",
       "1762  A comedy about life at the top, as seen from t...   \n",
       "673                         You can't escape your lies.   \n",
       "589                               His World. His Rules.   \n",
       "\n",
       "                                               overview  runtime  \\\n",
       "473   A serial killer returns to his hometown to sta...      107   \n",
       "1646  Wes Andersonâ€™s incisive quirky comedy build ...      119   \n",
       "1762  A college graduate goes to work as a nanny for...      106   \n",
       "673   A Trans-Siberian train journey from China to M...      111   \n",
       "589   Max Keeble, the victim of his 7th grade class,...       86   \n",
       "\n",
       "                                     genres  \\\n",
       "473           Drama|Horror|Mystery|Thriller   \n",
       "1646                 Adventure|Comedy|Drama   \n",
       "1762                   Comedy|Drama|Romance   \n",
       "673                  Thriller|Crime|Mystery   \n",
       "589   Comedy|Family|Fantasy|Science Fiction   \n",
       "\n",
       "                                   production_companies release_date  \\\n",
       "473                              Relativity Media|Rogue    10/8/2010   \n",
       "1646                                Touchstone Pictures   12/10/2004   \n",
       "1762                   The Weinstein Company|FilmColony    8/24/2007   \n",
       "673   Lietuvos Kinostudija|Scout Productions|Telecin...    1/18/2008   \n",
       "589             Walt Disney Pictures|Karz Entertainment    10/5/2001   \n",
       "\n",
       "      vote_average  release_year  \n",
       "473            5.2          2010  \n",
       "1646           7.0          2004  \n",
       "1762           6.0          2007  \n",
       "673            6.3          2008  \n",
       "589            5.3          2001  "
      ]
     },
     "execution_count": 44,
     "metadata": {},
     "output_type": "execute_result"
    }
   ],
   "source": [
    "data = pd.read_csv('C://Users//А4//projects//Projects//module_1//movie_bd_v5.csv')\n",
    "data.sample(5)"
   ]
  },
  {
   "cell_type": "code",
   "execution_count": 3,
   "metadata": {
    "colab": {},
    "colab_type": "code",
    "id": "CoYUnagMVp-C"
   },
   "outputs": [
    {
     "data": {
      "text/html": [
       "<div>\n",
       "<style scoped>\n",
       "    .dataframe tbody tr th:only-of-type {\n",
       "        vertical-align: middle;\n",
       "    }\n",
       "\n",
       "    .dataframe tbody tr th {\n",
       "        vertical-align: top;\n",
       "    }\n",
       "\n",
       "    .dataframe thead th {\n",
       "        text-align: right;\n",
       "    }\n",
       "</style>\n",
       "<table border=\"1\" class=\"dataframe\">\n",
       "  <thead>\n",
       "    <tr style=\"text-align: right;\">\n",
       "      <th></th>\n",
       "      <th>budget</th>\n",
       "      <th>revenue</th>\n",
       "      <th>runtime</th>\n",
       "      <th>vote_average</th>\n",
       "      <th>release_year</th>\n",
       "    </tr>\n",
       "  </thead>\n",
       "  <tbody>\n",
       "    <tr>\n",
       "      <th>count</th>\n",
       "      <td>1.889000e+03</td>\n",
       "      <td>1.889000e+03</td>\n",
       "      <td>1889.000000</td>\n",
       "      <td>1889.000000</td>\n",
       "      <td>1889.000000</td>\n",
       "    </tr>\n",
       "    <tr>\n",
       "      <th>mean</th>\n",
       "      <td>5.431083e+07</td>\n",
       "      <td>1.553653e+08</td>\n",
       "      <td>109.658549</td>\n",
       "      <td>6.140762</td>\n",
       "      <td>2007.860773</td>\n",
       "    </tr>\n",
       "    <tr>\n",
       "      <th>std</th>\n",
       "      <td>4.858721e+07</td>\n",
       "      <td>2.146698e+08</td>\n",
       "      <td>18.017041</td>\n",
       "      <td>0.764763</td>\n",
       "      <td>4.468841</td>\n",
       "    </tr>\n",
       "    <tr>\n",
       "      <th>min</th>\n",
       "      <td>5.000000e+06</td>\n",
       "      <td>2.033165e+06</td>\n",
       "      <td>63.000000</td>\n",
       "      <td>3.300000</td>\n",
       "      <td>2000.000000</td>\n",
       "    </tr>\n",
       "    <tr>\n",
       "      <th>25%</th>\n",
       "      <td>2.000000e+07</td>\n",
       "      <td>3.456058e+07</td>\n",
       "      <td>97.000000</td>\n",
       "      <td>5.600000</td>\n",
       "      <td>2004.000000</td>\n",
       "    </tr>\n",
       "    <tr>\n",
       "      <th>50%</th>\n",
       "      <td>3.800000e+07</td>\n",
       "      <td>8.361541e+07</td>\n",
       "      <td>107.000000</td>\n",
       "      <td>6.100000</td>\n",
       "      <td>2008.000000</td>\n",
       "    </tr>\n",
       "    <tr>\n",
       "      <th>75%</th>\n",
       "      <td>7.200000e+07</td>\n",
       "      <td>1.782626e+08</td>\n",
       "      <td>120.000000</td>\n",
       "      <td>6.600000</td>\n",
       "      <td>2012.000000</td>\n",
       "    </tr>\n",
       "    <tr>\n",
       "      <th>max</th>\n",
       "      <td>3.800000e+08</td>\n",
       "      <td>2.781506e+09</td>\n",
       "      <td>214.000000</td>\n",
       "      <td>8.100000</td>\n",
       "      <td>2015.000000</td>\n",
       "    </tr>\n",
       "  </tbody>\n",
       "</table>\n",
       "</div>"
      ],
      "text/plain": [
       "             budget       revenue      runtime  vote_average  release_year\n",
       "count  1.889000e+03  1.889000e+03  1889.000000   1889.000000   1889.000000\n",
       "mean   5.431083e+07  1.553653e+08   109.658549      6.140762   2007.860773\n",
       "std    4.858721e+07  2.146698e+08    18.017041      0.764763      4.468841\n",
       "min    5.000000e+06  2.033165e+06    63.000000      3.300000   2000.000000\n",
       "25%    2.000000e+07  3.456058e+07    97.000000      5.600000   2004.000000\n",
       "50%    3.800000e+07  8.361541e+07   107.000000      6.100000   2008.000000\n",
       "75%    7.200000e+07  1.782626e+08   120.000000      6.600000   2012.000000\n",
       "max    3.800000e+08  2.781506e+09   214.000000      8.100000   2015.000000"
      ]
     },
     "execution_count": 3,
     "metadata": {},
     "output_type": "execute_result"
    }
   ],
   "source": [
    "data.describe()"
   ]
  },
  {
   "cell_type": "markdown",
   "metadata": {
    "colab_type": "text",
    "id": "DTIt7ezGVp-G"
   },
   "source": [
    "# Предобработка"
   ]
  },
  {
   "cell_type": "code",
   "execution_count": 45,
   "metadata": {
    "colab": {},
    "colab_type": "code",
    "id": "jNb40DwKVp-H"
   },
   "outputs": [],
   "source": [
    "answers = {} # создадим словарь для ответов\n",
    "\n",
    "# тут другие ваши предобработки колонок например:\n",
    "\n",
    "#the time given in the dataset is in string format.\n",
    "#So we need to change this in datetime format\n",
    "# ...\n",
    "\n",
    "# код получения столбца profit\n",
    "data['profit'] = data['revenue'] - data['budget']\n"
   ]
  },
  {
   "cell_type": "markdown",
   "metadata": {
    "colab_type": "text",
    "id": "YxZaH-nPVp-L"
   },
   "source": [
    "# 1. У какого фильма из списка самый большой бюджет?"
   ]
  },
  {
   "cell_type": "markdown",
   "metadata": {
    "colab_type": "text",
    "id": "Nd-G5gX6Vp-M"
   },
   "source": [
    "Использовать варианты ответов в коде решения запрещено.    \n",
    "Вы думаете и в жизни у вас будут варианты ответов?)"
   ]
  },
  {
   "cell_type": "code",
   "execution_count": 75,
   "metadata": {
    "colab": {},
    "colab_type": "code",
    "id": "uVnXAY5RVp-O"
   },
   "outputs": [],
   "source": [
    "# +\n",
    "answers['1'] = 'Pirates of the Caribbean: On Stranger Tides (tt1298650)'\n",
    "# Добавляем ответ в словарь"
   ]
  },
  {
   "cell_type": "code",
   "execution_count": 26,
   "metadata": {
    "colab": {},
    "colab_type": "code",
    "id": "dZwb3m28Vp-S"
   },
   "outputs": [
    {
     "data": {
      "text/plain": [
       "imdb_id                                                         tt1298650\n",
       "budget                                                          380000000\n",
       "revenue                                                        1021683000\n",
       "original_title                Pirates of the Caribbean: On Stranger Tides\n",
       "cast                    Johnny Depp|PenÃ©lope Cruz|Geoffrey Rush|Ian M...\n",
       "director                                                     Rob Marshall\n",
       "tagline                                       Live Forever Or Die Trying.\n",
       "overview                Captain Jack Sparrow crosses paths with a woma...\n",
       "runtime                                                               136\n",
       "genres                                           Adventure|Action|Fantasy\n",
       "production_companies    Walt Disney Pictures|Jerry Bruckheimer Films|M...\n",
       "release_date                                                    5/11/2011\n",
       "vote_average                                                          6.3\n",
       "release_year                                                         2011\n",
       "Name: 723, dtype: object"
      ]
     },
     "execution_count": 26,
     "metadata": {},
     "output_type": "execute_result"
    }
   ],
   "source": [
    "data.iloc[data['budget'].argmax()] \n",
    "# функция argmax находит номер строки с максимумом, а iloc выводит информацию о ней"
   ]
  },
  {
   "cell_type": "markdown",
   "metadata": {
    "colab_type": "text",
    "id": "K7L3nbRXVp-X"
   },
   "source": [
    "ВАРИАНТ 2"
   ]
  },
  {
   "cell_type": "code",
   "execution_count": 21,
   "metadata": {
    "colab": {},
    "colab_type": "code",
    "id": "OGaoQI7rVp-X"
   },
   "outputs": [],
   "source": [
    "# можно добавлять разные варианты решения"
   ]
  },
  {
   "cell_type": "markdown",
   "metadata": {
    "colab_type": "text",
    "id": "FNRbbI3vVp-c"
   },
   "source": [
    "# 2. Какой из фильмов самый длительный (в минутах)?"
   ]
  },
  {
   "cell_type": "code",
   "execution_count": 36,
   "metadata": {
    "colab": {},
    "colab_type": "code",
    "id": "vHAoEXNTVp-d"
   },
   "outputs": [],
   "source": [
    "# +\n",
    "answers['2'] = 'Gods and Generals (tt0279111)'\n",
    "# Добавляем ответ в словарь"
   ]
  },
  {
   "cell_type": "code",
   "execution_count": 32,
   "metadata": {
    "colab": {},
    "colab_type": "code",
    "id": "ot-VX2XrVp-g"
   },
   "outputs": [
    {
     "data": {
      "text/plain": [
       "imdb_id                                                         tt0279111\n",
       "budget                                                           56000000\n",
       "revenue                                                          12923936\n",
       "original_title                                          Gods and Generals\n",
       "cast                    Stephen Lang|Jeff Daniels|Robert Duvall|Kevin ...\n",
       "director                                                Ronald F. Maxwell\n",
       "tagline                               The nations heart was touched by...\n",
       "overview                The film centers mostly around the personal an...\n",
       "runtime                                                               214\n",
       "genres                                                  Drama|History|War\n",
       "production_companies                   Turner Pictures|Antietam Filmworks\n",
       "release_date                                                    2/21/2003\n",
       "vote_average                                                          5.8\n",
       "release_year                                                         2003\n",
       "Name: 1157, dtype: object"
      ]
     },
     "execution_count": 32,
     "metadata": {},
     "output_type": "execute_result"
    }
   ],
   "source": [
    "data.iloc[data['runtime'].argmax()] \n",
    "# функция argmax находит номер строки с максимумом, а iloc выводит информацию о ней"
   ]
  },
  {
   "cell_type": "markdown",
   "metadata": {
    "colab_type": "text",
    "id": "bapLlpW8Vp-k"
   },
   "source": [
    "# 3. Какой из фильмов самый короткий (в минутах)?\n",
    "\n",
    "\n",
    "\n"
   ]
  },
  {
   "cell_type": "code",
   "execution_count": 37,
   "metadata": {
    "colab": {},
    "colab_type": "code",
    "id": "YBxaSHuAVp-l"
   },
   "outputs": [],
   "source": [
    "# +\n",
    "answers['3'] = 'Winnie the Pooh (tt1449283)'\n",
    "# Добавляем ответ в словарь"
   ]
  },
  {
   "cell_type": "code",
   "execution_count": 33,
   "metadata": {},
   "outputs": [
    {
     "data": {
      "text/plain": [
       "imdb_id                                                         tt1449283\n",
       "budget                                                           30000000\n",
       "revenue                                                          14460000\n",
       "original_title                                            Winnie the Pooh\n",
       "cast                    Jim Cummings|Travis Oates|Jim Cummings|Bud Luc...\n",
       "director                                        Stephen Anderson|Don Hall\n",
       "tagline                                                          Oh Pooh.\n",
       "overview                During an ordinary day in Hundred Acre Wood, W...\n",
       "runtime                                                                63\n",
       "genres                                                   Animation|Family\n",
       "production_companies    Walt Disney Pictures|Walt Disney Animation Stu...\n",
       "release_date                                                    4/13/2011\n",
       "vote_average                                                          6.8\n",
       "release_year                                                         2011\n",
       "Name: 768, dtype: object"
      ]
     },
     "execution_count": 33,
     "metadata": {},
     "output_type": "execute_result"
    }
   ],
   "source": [
    "data.iloc[data['runtime'].argmin()] \n",
    "# функция argmin находит номер строки с минимумом, а iloc выводит информацию о ней"
   ]
  },
  {
   "cell_type": "markdown",
   "metadata": {
    "colab_type": "text",
    "id": "TfQbxbfNVp-p"
   },
   "source": [
    "# 4. Какова средняя длительность фильмов?\n"
   ]
  },
  {
   "cell_type": "code",
   "execution_count": 48,
   "metadata": {
    "colab": {},
    "colab_type": "code",
    "id": "5K6dKZYVVp-q"
   },
   "outputs": [],
   "source": [
    "# +\n",
    "answers['4'] = '110'\n",
    "# Добавляем ответ в словарь"
   ]
  },
  {
   "cell_type": "code",
   "execution_count": 47,
   "metadata": {},
   "outputs": [
    {
     "data": {
      "text/plain": [
       "110"
      ]
     },
     "execution_count": 47,
     "metadata": {},
     "output_type": "execute_result"
    }
   ],
   "source": [
    "round(data['runtime'].mean())\n",
    "# Находим среднее значение через mean в столбце runtime, округляем до целого функцией round"
   ]
  },
  {
   "cell_type": "markdown",
   "metadata": {
    "colab_type": "text",
    "id": "r5TvbnT_Vp-u"
   },
   "source": [
    "# 5. Каково медианное значение длительности фильмов? "
   ]
  },
  {
   "cell_type": "code",
   "execution_count": 50,
   "metadata": {
    "colab": {},
    "colab_type": "code",
    "id": "iBROplKnVp-v"
   },
   "outputs": [],
   "source": [
    "# +\n",
    "answers['5'] = '107'\n",
    "# Добавляем ответ в словарь"
   ]
  },
  {
   "cell_type": "code",
   "execution_count": 49,
   "metadata": {},
   "outputs": [
    {
     "data": {
      "text/plain": [
       "107"
      ]
     },
     "execution_count": 49,
     "metadata": {},
     "output_type": "execute_result"
    }
   ],
   "source": [
    "round(data['runtime'].median())\n",
    "# Находим медианное значение через median в столбце runtime, округляем до целого функцией round"
   ]
  },
  {
   "cell_type": "markdown",
   "metadata": {
    "colab_type": "text",
    "id": "39P-deDSVp-y"
   },
   "source": [
    "# 6. Какой самый прибыльный фильм?\n",
    "#### Внимание! Здесь и далее под «прибылью» или «убытками» понимается разность между сборами и бюджетом фильма. (прибыль = сборы - бюджет) в нашем датасете это будет (profit = revenue - budget) "
   ]
  },
  {
   "cell_type": "code",
   "execution_count": 62,
   "metadata": {},
   "outputs": [],
   "source": [
    "# +\n",
    "answers['6'] = 'Avatar (tt0499549)'\n",
    "# Добавляем ответ в словарь"
   ]
  },
  {
   "cell_type": "code",
   "execution_count": 54,
   "metadata": {},
   "outputs": [],
   "source": [
    "# лучше код получения столбца profit вынести в Предобработку что в начале\n",
    "# вынес в главу Предобработка"
   ]
  },
  {
   "cell_type": "code",
   "execution_count": 61,
   "metadata": {
    "colab": {},
    "colab_type": "code",
    "id": "UYZh4T9WVp-y"
   },
   "outputs": [
    {
     "data": {
      "text/plain": [
       "imdb_id                                                         tt0499549\n",
       "budget                                                          237000000\n",
       "revenue                                                        2781505847\n",
       "original_title                                                     Avatar\n",
       "cast                    Sam Worthington|Zoe Saldana|Sigourney Weaver|S...\n",
       "director                                                    James Cameron\n",
       "tagline                                       Enter the World of Pandora.\n",
       "overview                In the 22nd century, a paraplegic Marine is di...\n",
       "runtime                                                               162\n",
       "genres                           Action|Adventure|Fantasy|Science Fiction\n",
       "production_companies    Ingenious Film Partners|Twentieth Century Fox ...\n",
       "release_date                                                   12/10/2009\n",
       "vote_average                                                          7.1\n",
       "release_year                                                         2009\n",
       "profit                                                         2544505847\n",
       "Name: 239, dtype: object"
      ]
     },
     "execution_count": 61,
     "metadata": {},
     "output_type": "execute_result"
    }
   ],
   "source": [
    "data.iloc[data['profit'].argmax()] \n",
    "# функция argmax находит номер строки с максимумом столбца profit, а iloc выводит информацию о ней"
   ]
  },
  {
   "cell_type": "markdown",
   "metadata": {
    "colab_type": "text",
    "id": "M99JmIX4Vp-2"
   },
   "source": [
    "# 7. Какой фильм самый убыточный? "
   ]
  },
  {
   "cell_type": "code",
   "execution_count": 64,
   "metadata": {
    "colab": {},
    "colab_type": "code",
    "id": "w-D2m4XPVp-3"
   },
   "outputs": [],
   "source": [
    "# +\n",
    "answers['7'] = 'The Lone Ranger (tt1210819)'\n",
    "# Добавляем ответ в словарь"
   ]
  },
  {
   "cell_type": "code",
   "execution_count": 63,
   "metadata": {},
   "outputs": [
    {
     "data": {
      "text/plain": [
       "imdb_id                                                         tt1210819\n",
       "budget                                                          255000000\n",
       "revenue                                                          89289910\n",
       "original_title                                            The Lone Ranger\n",
       "cast                    Johnny Depp|Armie Hammer|William Fichtner|Hele...\n",
       "director                                                   Gore Verbinski\n",
       "tagline                                           Never Take Off the Mask\n",
       "overview                The Texas Rangers chase down a gang of outlaws...\n",
       "runtime                                                               149\n",
       "genres                                           Action|Adventure|Western\n",
       "production_companies    Walt Disney Pictures|Jerry Bruckheimer Films|I...\n",
       "release_date                                                     7/3/2013\n",
       "vote_average                                                            6\n",
       "release_year                                                         2013\n",
       "profit                                                         -165710090\n",
       "Name: 1245, dtype: object"
      ]
     },
     "execution_count": 63,
     "metadata": {},
     "output_type": "execute_result"
    }
   ],
   "source": [
    "data.iloc[data['profit'].argmin()]\n",
    "# функция argmax находит номер строки с максимумом столбца profit, а iloc выводит информацию о ней"
   ]
  },
  {
   "cell_type": "markdown",
   "metadata": {
    "colab_type": "text",
    "id": "wEOM5ERVVp-6"
   },
   "source": [
    "# 8. У скольких фильмов из датасета объем сборов оказался выше бюджета?"
   ]
  },
  {
   "cell_type": "code",
   "execution_count": 0,
   "metadata": {
    "colab": {},
    "colab_type": "code",
    "id": "y00_7HD6Vp-7"
   },
   "outputs": [],
   "source": [
    "# +\n",
    "answers['8'] = '1478'\n",
    "# Добавляем ответ в словарь"
   ]
  },
  {
   "cell_type": "code",
   "execution_count": 65,
   "metadata": {},
   "outputs": [
    {
     "data": {
      "text/plain": [
       "1478"
      ]
     },
     "execution_count": 65,
     "metadata": {},
     "output_type": "execute_result"
    }
   ],
   "source": [
    "len(data[data['profit'] > 0])\n",
    "# с помощью простой фильтрации находим фильмы в датафрейме с положительным profit, \n",
    "# вычисляем длинну датафрейма с функцией len"
   ]
  },
  {
   "cell_type": "markdown",
   "metadata": {
    "colab_type": "text",
    "id": "xhpspA9KVp_A"
   },
   "source": [
    "# 9. Какой фильм оказался самым кассовым в 2008 году?"
   ]
  },
  {
   "cell_type": "code",
   "execution_count": 0,
   "metadata": {
    "colab": {},
    "colab_type": "code",
    "id": "MoUyQr9RVp_B"
   },
   "outputs": [],
   "source": [
    "# +\n",
    "answers['9'] = 'The Dark Knight (tt0468569)'\n",
    "# Добавляем ответ в словарь"
   ]
  },
  {
   "cell_type": "code",
   "execution_count": 69,
   "metadata": {},
   "outputs": [
    {
     "data": {
      "text/plain": [
       "imdb_id                                                         tt0468569\n",
       "budget                                                          185000000\n",
       "revenue                                                        1001921825\n",
       "original_title                                            The Dark Knight\n",
       "cast                    Christian Bale|Michael Caine|Heath Ledger|Aaro...\n",
       "director                                                Christopher Nolan\n",
       "tagline                                                   Why So Serious?\n",
       "overview                Batman raises the stakes in his war on crime. ...\n",
       "runtime                                                               152\n",
       "genres                                        Drama|Action|Crime|Thriller\n",
       "production_companies    DC Comics|Legendary Pictures|Warner Bros.|Syncopy\n",
       "release_date                                                    7/16/2008\n",
       "vote_average                                                          8.1\n",
       "release_year                                                         2008\n",
       "profit                                                          816921825\n",
       "Name: 599, dtype: object"
      ]
     },
     "execution_count": 69,
     "metadata": {},
     "output_type": "execute_result"
    }
   ],
   "source": [
    "# создаем датафрейм фильмов с релизом в 2008 году\n",
    "data_2008 = data[data['release_year'] == 2008]\n",
    "\n",
    "# функция argmax находит номер строки с максимумом столбца profit, а iloc выводит информацию о ней\n",
    "data_2008.iloc[data_2008['profit'].argmax()] "
   ]
  },
  {
   "cell_type": "markdown",
   "metadata": {
    "colab_type": "text",
    "id": "Zi4hDKidVp_F"
   },
   "source": [
    "# 10. Самый убыточный фильм за период с 2012 по 2014 г. (включительно)?\n"
   ]
  },
  {
   "cell_type": "code",
   "execution_count": 73,
   "metadata": {},
   "outputs": [],
   "source": [
    "# +\n",
    "answers['10'] = 'The Lone Ranger (tt1210819)'\n",
    "# Добавляем ответ в словарь"
   ]
  },
  {
   "cell_type": "code",
   "execution_count": 106,
   "metadata": {
    "colab": {},
    "colab_type": "code",
    "id": "XqyRmufJVp_F"
   },
   "outputs": [
    {
     "data": {
      "text/plain": [
       "imdb_id                                                         tt1210819\n",
       "budget                                                          255000000\n",
       "revenue                                                          89289910\n",
       "original_title                                            The Lone Ranger\n",
       "cast                    Johnny Depp|Armie Hammer|William Fichtner|Hele...\n",
       "director                                                   Gore Verbinski\n",
       "tagline                                           Never Take Off the Mask\n",
       "overview                The Texas Rangers chase down a gang of outlaws...\n",
       "runtime                                                               149\n",
       "genres                                           Action|Adventure|Western\n",
       "production_companies    Walt Disney Pictures|Jerry Bruckheimer Films|I...\n",
       "release_date                                                     7/3/2013\n",
       "vote_average                                                            6\n",
       "release_year                                                         2013\n",
       "profit                                                         -165710090\n",
       "Name: 1245, dtype: object"
      ]
     },
     "execution_count": 106,
     "metadata": {},
     "output_type": "execute_result"
    }
   ],
   "source": [
    "# создаем датафрейм фильмов с релизом c 2012 по 2014 годы включительно\n",
    "data_2012_2014 = data[(data['release_year'] > 2011) & (data['release_year'] < 2015)]\n",
    "\n",
    "# функция argmin находит номер строки с минимом столбца profit, а iloc выводит информацию о ней\n",
    "data_2012_2014.iloc[data_2012_2014['profit'].argmin()] "
   ]
  },
  {
   "cell_type": "markdown",
   "metadata": {
    "colab_type": "text",
    "id": "EA7Sa9dkVp_I"
   },
   "source": [
    "# 11. Какого жанра фильмов больше всего?"
   ]
  },
  {
   "cell_type": "code",
   "execution_count": 0,
   "metadata": {
    "colab": {},
    "colab_type": "code",
    "id": "zsJAwJ8QVp_J"
   },
   "outputs": [],
   "source": [
    "# эту задачу тоже можно решать разными подходами, попробуй реализовать разные варианты\n",
    "# если будешь добавлять функцию - выноси ее в предобработку что в начале"
   ]
  },
  {
   "cell_type": "code",
   "execution_count": null,
   "metadata": {},
   "outputs": [],
   "source": [
    "# +\n",
    "answers['11'] = 'Drama'\n",
    "# Добавляем ответ в словарь"
   ]
  },
  {
   "cell_type": "code",
   "execution_count": 104,
   "metadata": {},
   "outputs": [
    {
     "data": {
      "text/plain": [
       "Drama              782\n",
       "Comedy             683\n",
       "Thriller           596\n",
       "Action             582\n",
       "Adventure          415\n",
       "Crime              315\n",
       "Romance            308\n",
       "Family             260\n",
       "Science Fiction    248\n",
       "Fantasy            222\n",
       "Horror             176\n",
       "Mystery            168\n",
       "Animation          139\n",
       "Music               64\n",
       "History             62\n",
       "War                 58\n",
       "Western             19\n",
       "Documentary          8\n",
       "Foreign              2\n",
       "dtype: int64"
      ]
     },
     "execution_count": 104,
     "metadata": {},
     "output_type": "execute_result"
    }
   ],
   "source": [
    "# ВАРИАНТ 1\n",
    "\n",
    "# Создаем список жанров фильмов функцией sum, разделив перед этим значения ячеек genres функцией split('|')\n",
    "# Создаем Series из списка жанров\n",
    "data_genres = pd.Series(data.genres.str.split('|').sum())\n",
    "\n",
    "# Считаем колличество значений для каждого жанра \n",
    "data_genres.value_counts()"
   ]
  },
  {
   "cell_type": "markdown",
   "metadata": {
    "colab_type": "text",
    "id": "Ax6g2C8SVp_M"
   },
   "source": [
    "ВАРИАНТ 2"
   ]
  },
  {
   "cell_type": "code",
   "execution_count": 102,
   "metadata": {
    "colab": {},
    "colab_type": "code",
    "id": "otO3SbrSVp_N"
   },
   "outputs": [
    {
     "data": {
      "text/plain": [
       "Drama              782\n",
       "Comedy             683\n",
       "Thriller           596\n",
       "Action             582\n",
       "Adventure          415\n",
       "Crime              315\n",
       "Romance            308\n",
       "Family             260\n",
       "Science Fiction    248\n",
       "Fantasy            222\n",
       "Horror             176\n",
       "Mystery            168\n",
       "Animation          139\n",
       "Music               64\n",
       "History             62\n",
       "War                 58\n",
       "Western             19\n",
       "Documentary          8\n",
       "Foreign              2\n",
       "dtype: int64"
      ]
     },
     "execution_count": 102,
     "metadata": {},
     "output_type": "execute_result"
    }
   ],
   "source": [
    "# Все тоже самое для варинта 1, но в одну строку\n",
    "pd.Series(data.genres.str.split('|').sum()).value_counts()"
   ]
  },
  {
   "cell_type": "markdown",
   "metadata": {
    "colab_type": "text",
    "id": "T9_bPWpkVp_Q"
   },
   "source": [
    "# 12. Фильмы какого жанра чаще всего становятся прибыльными? "
   ]
  },
  {
   "cell_type": "code",
   "execution_count": 109,
   "metadata": {},
   "outputs": [],
   "source": [
    "# +\n",
    "answers['12'] = 'Drama'\n",
    "# Добавляем ответ в словарь"
   ]
  },
  {
   "cell_type": "code",
   "execution_count": 108,
   "metadata": {
    "colab": {},
    "colab_type": "code",
    "id": "Tmt8MaK1Vp_R"
   },
   "outputs": [
    {
     "data": {
      "text/plain": [
       "Drama              560\n",
       "Comedy             551\n",
       "Thriller           446\n",
       "Action             444\n",
       "Adventure          337\n",
       "Romance            242\n",
       "Crime              231\n",
       "Family             226\n",
       "Science Fiction    195\n",
       "Fantasy            188\n",
       "Horror             150\n",
       "Animation          120\n",
       "Mystery            119\n",
       "Music               47\n",
       "History             46\n",
       "War                 41\n",
       "Western             12\n",
       "Documentary          7\n",
       "dtype: int64"
      ]
     },
     "execution_count": 108,
     "metadata": {},
     "output_type": "execute_result"
    }
   ],
   "source": [
    "# создаем датафрейм фильмов с profit болльше нуля, т.е. прибыльных\n",
    "data_profit = data[data['profit'] > 0]\n",
    "\n",
    "# Создаем список жанров фильмов функцией sum, разделив перед этим значения ячеек genres функцией split('|')\n",
    "# Создаем Series из списка жанров\n",
    "# Считаем колличество значений для каждого жанра с помощью функции value_counts\n",
    "pd.Series(data_profit.genres.str.split('|').sum()).value_counts()"
   ]
  },
  {
   "cell_type": "markdown",
   "metadata": {
    "colab_type": "text",
    "id": "0F23bgsDVp_U"
   },
   "source": [
    "# 13. У какого режиссера самые большие суммарные кассовые сборы?"
   ]
  },
  {
   "cell_type": "code",
   "execution_count": 18,
   "metadata": {
    "colab": {},
    "colab_type": "code",
    "id": "K6Z3J8ygVp_X"
   },
   "outputs": [],
   "source": [
    "# +\n",
    "answers['13'] = 'Peter Jackson'\n",
    "# Добавляем ответ в словарь"
   ]
  },
  {
   "cell_type": "code",
   "execution_count": 17,
   "metadata": {},
   "outputs": [
    {
     "data": {
      "text/plain": [
       "director\n",
       "Peter Jackson    6490593685\n",
       "Name: revenue, dtype: int64"
      ]
     },
     "execution_count": 17,
     "metadata": {},
     "output_type": "execute_result"
    }
   ],
   "source": [
    "# создаем копию списка\n",
    "data_director = data.copy()\n",
    "\n",
    "# разделяем значения столбца director по знаку '|'\n",
    "data_director['director'] = data_director.director.str.split('|')\n",
    "\n",
    "# функцией explode создаем копии строк в которых несколько режисеров с одним режисером\n",
    "data_director_1 = data_director.explode('director')\n",
    "\n",
    "# создаем датафрейм data_director, группируем в него с помощью функции groupby сумму (sum) сборов (revenue)\n",
    "# по каждому режисеру (director), сортируем датафрейм функцией sort_values по убыванию ascending=False\n",
    "data_director_2 = data_director_1.groupby(['director'])['revenue'].sum().sort_values(ascending=False)\n",
    "\n",
    "# выводим первую строку датафрейма с ответом\n",
    "data_director_2.head(1)"
   ]
  },
  {
   "cell_type": "markdown",
   "metadata": {
    "colab_type": "text",
    "id": "PsYC9FgRVp_a"
   },
   "source": [
    "# 14. Какой режисер снял больше всего фильмов в стиле Action?"
   ]
  },
  {
   "cell_type": "code",
   "execution_count": 49,
   "metadata": {
    "colab": {},
    "colab_type": "code",
    "id": "wd2M-wHeVp_b"
   },
   "outputs": [],
   "source": [
    "# +\n",
    "answers['14'] = 'Robert Rodriguez'\n",
    "# Добавляем ответ в словарь"
   ]
  },
  {
   "cell_type": "code",
   "execution_count": 50,
   "metadata": {},
   "outputs": [
    {
     "data": {
      "text/plain": [
       "Robert Rodriguez      9\n",
       "Paul W.S. Anderson    7\n",
       "Michael Bay           7\n",
       "Ridley Scott          6\n",
       "Antoine Fuqua         6\n",
       "                     ..\n",
       "Wayne Kramer          1\n",
       "Andrew Stanton        1\n",
       "Rod Lurie             1\n",
       "Jay Chandrasekhar     1\n",
       "Kevin Smith           1\n",
       "Name: director, Length: 364, dtype: int64"
      ]
     },
     "execution_count": 50,
     "metadata": {},
     "output_type": "execute_result"
    }
   ],
   "source": [
    "# создаем копию списка\n",
    "data_director = data.copy()\n",
    "\n",
    "# разделяем значения столбца director по знаку '|'\n",
    "data_director['director'] = data_director.director.str.split('|')\n",
    "\n",
    "# создаем новый датафрейм, функцией explode создаем копии строк в которых несколько режисеров с одним режисером\n",
    "data_director_1 = data_director.explode('director')\n",
    "\n",
    "# далее используем разделенный по одному режисеру файл data_director_1\n",
    "# разделяем значения столбца genres по знаку '|'\n",
    "data_director_1['genres'] = data_director_1.genres.str.split('|')\n",
    "\n",
    "# создаем новый датафрейм, функцией explode создаем копии строк в которых несколько жанров с одним жанром\n",
    "data_director_genres_1 = data_director_1.explode('genres')\n",
    "\n",
    "# с помощью функции contains фильтруем в столбце genres по фильмам жанра Action режисеров \n",
    "# сортируем датафрейм функцией sort_values по убыванию ascending=False\n",
    "data_director_genres_1[data_director_genres_1['genres'].str.contains('Action')]['director'].\\\n",
    "value_counts().sort_values(ascending=False)"
   ]
  },
  {
   "cell_type": "markdown",
   "metadata": {
    "colab_type": "text",
    "id": "PQ0KciD7Vp_f"
   },
   "source": [
    "# 15. Фильмы с каким актером принесли самые высокие кассовые сборы в 2012 году? "
   ]
  },
  {
   "cell_type": "code",
   "execution_count": 0,
   "metadata": {
    "colab": {},
    "colab_type": "code",
    "id": "aga62oeKVp_g"
   },
   "outputs": [],
   "source": [
    "# +\n",
    "answers['15'] = 'Chris Hemsworth'\n",
    "# Добавляем ответ в словарь"
   ]
  },
  {
   "cell_type": "code",
   "execution_count": 58,
   "metadata": {},
   "outputs": [
    {
     "data": {
      "text/plain": [
       "cast\n",
       "Chris Hemsworth    2027450773\n",
       "Name: revenue, dtype: int64"
      ]
     },
     "execution_count": 58,
     "metadata": {},
     "output_type": "execute_result"
    }
   ],
   "source": [
    "# создаем копию списка\n",
    "data_cast = data.copy()\n",
    "\n",
    "# разделяем значения столбца актеры cast по знаку '|'\n",
    "data_cast['cast'] = data_cast.cast.str.split('|')\n",
    "\n",
    "# создаем новый датафрейм, функцией explode создаем копии строк в которых несколько актеров с одним актером\n",
    "data_cast_1 = data_cast.explode('cast')\n",
    "\n",
    "# создаем датафрейм фильмов с релизом в 2012 году\n",
    "data_cast_2012 = data_cast_1[data_cast_1['release_year'] == 2012]\n",
    "\n",
    "# создаем датафрейм revenue_cast_2012, группируем в него с помощью функции groupby сумму (sum) сборов (revenue)\n",
    "# по каждому актеру (cast), сортируем датафрейм функцией sort_values по убыванию ascending=False\n",
    "revenue_cast_2012 = data_cast_2012.groupby(['cast'])['revenue'].sum().sort_values(ascending=False)\n",
    "\n",
    "# выводим первую строку датафрейма с ответом\n",
    "revenue_cast_2012.head(1)"
   ]
  },
  {
   "cell_type": "markdown",
   "metadata": {
    "colab_type": "text",
    "id": "mWHyyL7QVp_j"
   },
   "source": [
    "# 16. Какой актер снялся в большем количестве высокобюджетных фильмов?"
   ]
  },
  {
   "cell_type": "code",
   "execution_count": 68,
   "metadata": {
    "colab": {},
    "colab_type": "code",
    "id": "qQtmHKTFVp_k"
   },
   "outputs": [],
   "source": [
    "# +\n",
    "answers['16'] = 'Matt Damon'\n",
    "# Добавляем ответ в словарь"
   ]
  },
  {
   "cell_type": "code",
   "execution_count": 67,
   "metadata": {},
   "outputs": [
    {
     "data": {
      "text/plain": [
       "Matt Damon           18\n",
       "Adam Sandler         17\n",
       "Angelina Jolie       16\n",
       "Samuel L. Jackson    15\n",
       "Eddie Murphy         15\n",
       "                     ..\n",
       "Johnny Whitworth      1\n",
       "Charlie Tahan         1\n",
       "Sarah Wynter          1\n",
       "Oliver Reed           1\n",
       "Rachel Bilson         1\n",
       "Name: cast, Length: 1505, dtype: int64"
      ]
     },
     "execution_count": 67,
     "metadata": {},
     "output_type": "execute_result"
    }
   ],
   "source": [
    "# создаем копию списка\n",
    "data_cast_rich = data.copy()\n",
    "\n",
    "# разделяем значения столбца актеры cast по знаку '|'\n",
    "data_cast_rich['cast'] = data_cast_rich.cast.str.split('|')\n",
    "\n",
    "# создаем новый датафрейм, функцией explode создаем копии строк в которых несколько актеров с одним актером\n",
    "data_cast_rich_1 = data_cast_rich.explode('cast')\n",
    "\n",
    "# вычисляем средний бюджет\n",
    "budget_mean = round(data['budget'].mean())\n",
    "\n",
    "# создаем новый датафрейм с фильмами с бюджетом больше среднего\n",
    "data_high_budget = data_cast_rich_1[data_cast_rich_1['budget'] > budget_mean]\n",
    "\n",
    "# с помощью функции value_counts считаем в скольких фильмах с бюджетом выше среднего снимались актеры\n",
    "cast_high_budget = data_high_budget['cast'].value_counts()\n",
    "cast_high_budget"
   ]
  },
  {
   "cell_type": "markdown",
   "metadata": {
    "colab_type": "text",
    "id": "NIh6AaW5Vp_n"
   },
   "source": [
    "# 17. В фильмах какого жанра больше всего снимался Nicolas Cage? "
   ]
  },
  {
   "cell_type": "code",
   "execution_count": 72,
   "metadata": {
    "colab": {},
    "colab_type": "code",
    "id": "H74SJDIBVp_n"
   },
   "outputs": [],
   "source": [
    "# +\n",
    "answers['17'] = 'Action'\n",
    "# Добавляем ответ в словарь"
   ]
  },
  {
   "cell_type": "code",
   "execution_count": 71,
   "metadata": {},
   "outputs": [
    {
     "data": {
      "text/plain": [
       "Action             17\n",
       "Thriller           15\n",
       "Drama              12\n",
       "Crime              10\n",
       "Fantasy             8\n",
       "Adventure           7\n",
       "Comedy              6\n",
       "Science Fiction     4\n",
       "Family              3\n",
       "Animation           3\n",
       "Mystery             3\n",
       "History             2\n",
       "War                 1\n",
       "Romance             1\n",
       "Horror              1\n",
       "Name: genres, dtype: int64"
      ]
     },
     "execution_count": 71,
     "metadata": {},
     "output_type": "execute_result"
    }
   ],
   "source": [
    "# создаем копию списка\n",
    "data_cast_genres = data.copy()\n",
    "\n",
    "# разделяем значения столбца актеры cast по знаку '|'\n",
    "data_cast_genres['cast'] = data_cast_genres.cast.str.split('|')\n",
    "\n",
    "# создаем новый датафрейм, функцией explode создаем копии строк в которых несколько актеров с одним актером\n",
    "data_cast_genres_1 = data_cast_genres.explode('cast')\n",
    "\n",
    "# далее используем разделенный по одному актеру файл data_cast_genres_1\n",
    "# разделяем значения столбца genres по знаку '|'\n",
    "data_cast_genres_1['genres'] = data_cast_genres_1.genres.str.split('|')\n",
    "\n",
    "# создаем новый датафрейм, функцией explode создаем копии строк в которых несколько жанров с одним жанром\n",
    "data_cast_genres_2 = data_cast_genres_1.explode('genres')\n",
    "\n",
    "# создаем новый датафрейм с фильмами с Nicolas Cage\n",
    "data_genres_Nicolas_Cage = data_cast_genres_2[data_cast_genres_2['cast'] == 'Nicolas Cage']\n",
    "\n",
    "# с помощью функции value_counts считаем фильмы с жанрами\n",
    "genres_Nicolas_Cage = data_genres_Nicolas_Cage['genres'].value_counts()\n",
    "genres_Nicolas_Cage"
   ]
  },
  {
   "cell_type": "markdown",
   "metadata": {
    "colab_type": "text",
    "id": "RqOmPRfWVp_q"
   },
   "source": [
    "# 18. Самый убыточный фильм от Paramount Pictures"
   ]
  },
  {
   "cell_type": "code",
   "execution_count": 0,
   "metadata": {
    "colab": {},
    "colab_type": "code",
    "id": "9E_B0Y96Vp_r"
   },
   "outputs": [],
   "source": []
  },
  {
   "cell_type": "markdown",
   "metadata": {
    "colab_type": "text",
    "id": "vS8Ur6ddVp_u"
   },
   "source": [
    "# 19. Какой год стал самым успешным по суммарным кассовым сборам?"
   ]
  },
  {
   "cell_type": "code",
   "execution_count": 0,
   "metadata": {
    "colab": {},
    "colab_type": "code",
    "id": "Dnbt4GdIVp_v"
   },
   "outputs": [],
   "source": []
  },
  {
   "cell_type": "markdown",
   "metadata": {
    "colab_type": "text",
    "id": "JAzJh4QAVp_z"
   },
   "source": [
    "# 20. Какой самый прибыльный год для студии Warner Bros?"
   ]
  },
  {
   "cell_type": "code",
   "execution_count": 0,
   "metadata": {
    "colab": {},
    "colab_type": "code",
    "id": "wgVu02DEVp_0"
   },
   "outputs": [],
   "source": []
  },
  {
   "cell_type": "markdown",
   "metadata": {
    "colab_type": "text",
    "id": "8Im1S2HRVp_4"
   },
   "source": [
    "# 21. В каком месяце за все годы суммарно вышло больше всего фильмов?"
   ]
  },
  {
   "cell_type": "code",
   "execution_count": 0,
   "metadata": {
    "colab": {},
    "colab_type": "code",
    "id": "lev6TH7gVp_4"
   },
   "outputs": [],
   "source": []
  },
  {
   "cell_type": "markdown",
   "metadata": {
    "colab_type": "text",
    "id": "uAJsZ_NeVp_7"
   },
   "source": [
    "# 22. Сколько суммарно вышло фильмов летом? (за июнь, июль, август)"
   ]
  },
  {
   "cell_type": "code",
   "execution_count": 0,
   "metadata": {
    "colab": {},
    "colab_type": "code",
    "id": "Aa-hEREoVp_8"
   },
   "outputs": [],
   "source": []
  },
  {
   "cell_type": "markdown",
   "metadata": {
    "colab_type": "text",
    "id": "G94ppOY1VqAA"
   },
   "source": [
    "# 23. Для какого режиссера зима – самое продуктивное время года? "
   ]
  },
  {
   "cell_type": "code",
   "execution_count": 0,
   "metadata": {
    "colab": {},
    "colab_type": "code",
    "id": "RhNTsamuVqAB"
   },
   "outputs": [],
   "source": []
  },
  {
   "cell_type": "markdown",
   "metadata": {
    "colab_type": "text",
    "id": "RBo0JVjVVqAF"
   },
   "source": [
    "# 24. Какая студия дает самые длинные названия своим фильмам по количеству символов?"
   ]
  },
  {
   "cell_type": "code",
   "execution_count": 0,
   "metadata": {
    "colab": {},
    "colab_type": "code",
    "id": "QRGS8L0iVqAG"
   },
   "outputs": [],
   "source": []
  },
  {
   "cell_type": "markdown",
   "metadata": {
    "colab_type": "text",
    "id": "9G0hbvR7VqAK"
   },
   "source": [
    "# 25. Описание фильмов какой студии в среднем самые длинные по количеству слов?"
   ]
  },
  {
   "cell_type": "code",
   "execution_count": 0,
   "metadata": {
    "colab": {},
    "colab_type": "code",
    "id": "Ge2GsLNxVqAK"
   },
   "outputs": [],
   "source": []
  },
  {
   "cell_type": "markdown",
   "metadata": {
    "colab_type": "text",
    "id": "FJ1AFt90VqAP"
   },
   "source": [
    "# 26. Какие фильмы входят в 1 процент лучших по рейтингу? \n",
    "по vote_average"
   ]
  },
  {
   "cell_type": "code",
   "execution_count": 0,
   "metadata": {
    "colab": {},
    "colab_type": "code",
    "id": "8qmJVq4CVqAQ"
   },
   "outputs": [],
   "source": []
  },
  {
   "cell_type": "markdown",
   "metadata": {
    "colab_type": "text",
    "id": "MdXsUXbCVqAV"
   },
   "source": [
    "# 27. Какие актеры чаще всего снимаются в одном фильме вместе?\n"
   ]
  },
  {
   "cell_type": "markdown",
   "metadata": {
    "colab_type": "text",
    "id": "4ymnxEVoVqAW"
   },
   "source": [
    "ВАРИАНТ 2"
   ]
  },
  {
   "cell_type": "markdown",
   "metadata": {
    "colab_type": "text",
    "id": "U0nONFnGVqAX"
   },
   "source": [
    "# Submission"
   ]
  },
  {
   "cell_type": "code",
   "execution_count": 0,
   "metadata": {
    "colab": {},
    "colab_type": "code",
    "id": "IfcaRO9-VqAX",
    "outputId": "0f132912-32bb-4196-c98c-abfbc4ad5a5f"
   },
   "outputs": [
    {
     "data": {
      "text/plain": [
       "{'1': '...', '2': '...'}"
      ]
     },
     "execution_count": 8,
     "metadata": {
      "tags": []
     },
     "output_type": "execute_result"
    }
   ],
   "source": [
    "# в конце можно посмотреть свои ответы к каждому вопросу\n",
    "answers"
   ]
  },
  {
   "cell_type": "code",
   "execution_count": 0,
   "metadata": {
    "colab": {},
    "colab_type": "code",
    "id": "SiRmHPl8VqAd"
   },
   "outputs": [],
   "source": [
    "# и убедиться что ни чего не пропустил)\n",
    "len(answers)"
   ]
  },
  {
   "cell_type": "code",
   "execution_count": 0,
   "metadata": {
    "colab": {},
    "colab_type": "code",
    "id": "uCfuTkRbVqAg"
   },
   "outputs": [],
   "source": []
  },
  {
   "cell_type": "code",
   "execution_count": 0,
   "metadata": {
    "colab": {},
    "colab_type": "code",
    "id": "Vwx3NrkSVqAl"
   },
   "outputs": [],
   "source": []
  }
 ],
 "metadata": {
  "colab": {
   "name": "Copy of [SF-DST] Movies IMBD v4.1 TEMPLATE.ipynb",
   "provenance": []
  },
  "kernelspec": {
   "display_name": "Python 3",
   "language": "python",
   "name": "python3"
  },
  "language_info": {
   "codemirror_mode": {
    "name": "ipython",
    "version": 3
   },
   "file_extension": ".py",
   "mimetype": "text/x-python",
   "name": "python",
   "nbconvert_exporter": "python",
   "pygments_lexer": "ipython3",
   "version": "3.8.3"
  }
 },
 "nbformat": 4,
 "nbformat_minor": 1
}
